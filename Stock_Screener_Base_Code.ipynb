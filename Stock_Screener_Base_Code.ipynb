{
 "cells": [
  {
   "cell_type": "code",
   "execution_count": 3,
   "id": "a38253bc-0c49-4c2f-aa96-36446358069f",
   "metadata": {},
   "outputs": [],
   "source": [
    "#https://www.schwab.wallst.com/schwab/Prospect/research/etfs/schwabETF/index.asp?type=holdings&symbol=VCR"
   ]
  },
  {
   "cell_type": "code",
   "execution_count": 1,
   "id": "f8084a21-b769-49f5-98c7-04f26d77a681",
   "metadata": {},
   "outputs": [],
   "source": [
    "from selenium import webdriver\n",
    "from selenium.webdriver.chrome.service import Service\n",
    "from selenium.webdriver.common.by import By\n",
    "from selenium.webdriver.support.ui import WebDriverWait\n",
    "from selenium.webdriver.support import expected_conditions as EC\n",
    "from scrapy.selector import Selector\n",
    "import pandas as pd\n",
    "import time\n",
    "import requests\n",
    "import yfinance as yf\n",
    "headers = {'User-Agent': 'Mozilla/5.0 (Windows NT 10.0; Win64; x64) AppleWebKit/537.36 (KHTML, like Gecko) Chrome/71.0.3578.98 Safari/537.36' } \n",
    "\n",
    "#html = requests.get('https://finance.yahoo.com/quote/amzn', headers=headers).text\n",
    "#print(html[0:1000])"
   ]
  },
  {
   "cell_type": "code",
   "execution_count": 6,
   "id": "09a7fe89-388e-4075-90aa-a28f167bb080",
   "metadata": {},
   "outputs": [],
   "source": [
    "#response.xpath('/text()').extract_first()"
   ]
  },
  {
   "cell_type": "code",
   "execution_count": 10,
   "id": "64669de8-1815-4b25-9057-45c80b721c83",
   "metadata": {},
   "outputs": [],
   "source": [
    "#1.) Market Cap greater than $2B & 3-month trading volume of 200,000\n",
    "\n",
    "#2.) Revenue growth exceeding 3-4% for the last 2 years\n",
    "\n",
    "#3.) Earnings growth in the last 2 years \n",
    "\n",
    "#4.) Positive earnings surprise sometime within the past 2 quarters (Uses EPS)\n",
    "\n",
    "#5.) ROE and/or ROIC growing in the last 3 years\n",
    "\n",
    "#6.) PEG ratio is less than the industry average\n",
    "\n",
    "#7.) Current Ratio greater than 1\n",
    "\n",
    "#8.) P/E less than the industry average \n",
    "\n",
    "#9.) Operating Margin exceeding sector average, preferably a company within a profitable industry."
   ]
  },
  {
   "cell_type": "code",
   "execution_count": null,
   "id": "4e7887a0-11ad-4d53-9a45-709c3fdad5aa",
   "metadata": {},
   "outputs": [],
   "source": [
    "#Proofing Concept"
   ]
  },
  {
   "cell_type": "code",
   "execution_count": 28,
   "id": "5d7f06e8-d5f7-4073-89da-f6819fad8341",
   "metadata": {},
   "outputs": [
    {
     "data": {
      "text/html": [
       "<div>\n",
       "<style scoped>\n",
       "    .dataframe tbody tr th:only-of-type {\n",
       "        vertical-align: middle;\n",
       "    }\n",
       "\n",
       "    .dataframe tbody tr th {\n",
       "        vertical-align: top;\n",
       "    }\n",
       "\n",
       "    .dataframe thead th {\n",
       "        text-align: right;\n",
       "    }\n",
       "</style>\n",
       "<table border=\"1\" class=\"dataframe\">\n",
       "  <thead>\n",
       "    <tr style=\"text-align: right;\">\n",
       "      <th></th>\n",
       "      <th>TICKER</th>\n",
       "    </tr>\n",
       "  </thead>\n",
       "  <tbody>\n",
       "    <tr>\n",
       "      <th>0</th>\n",
       "      <td>AMZN</td>\n",
       "    </tr>\n",
       "    <tr>\n",
       "      <th>1</th>\n",
       "      <td>TSLA</td>\n",
       "    </tr>\n",
       "    <tr>\n",
       "      <th>2</th>\n",
       "      <td>HD</td>\n",
       "    </tr>\n",
       "    <tr>\n",
       "      <th>3</th>\n",
       "      <td>MCD</td>\n",
       "    </tr>\n",
       "    <tr>\n",
       "      <th>4</th>\n",
       "      <td>BKNG</td>\n",
       "    </tr>\n",
       "  </tbody>\n",
       "</table>\n",
       "</div>"
      ],
      "text/plain": [
       "  TICKER\n",
       "0   AMZN\n",
       "1   TSLA\n",
       "2     HD\n",
       "3    MCD\n",
       "4   BKNG"
      ]
     },
     "execution_count": 28,
     "metadata": {},
     "output_type": "execute_result"
    }
   ],
   "source": [
    "#Import CSV of Tickers\n",
    "import pandas as pd\n",
    "import numpy as np\n",
    "from parsel import Selector\n",
    "df = pd.read_csv('Holdings_details_Consumer_Discretionary_ETF.csv')\n",
    "df.head()"
   ]
  },
  {
   "cell_type": "code",
   "execution_count": 12,
   "id": "fc063dd1-0760-46fc-a12d-2b9ad54563a1",
   "metadata": {},
   "outputs": [],
   "source": [
    "#1.) Market Cap greater than $2B & 3-month trading volume of 200,000"
   ]
  },
  {
   "cell_type": "code",
   "execution_count": 7,
   "id": "1b72a7c2-7ede-482d-ad9f-16453321f4b7",
   "metadata": {},
   "outputs": [
    {
     "name": "stdout",
     "output_type": "stream",
     "text": [
      "Market_Cap = 2.33T \n"
     ]
    }
   ],
   "source": [
    "html = requests.get('https://finance.yahoo.com/quote/AMZN/key-statistics/', headers=headers).text\n",
    "response = Selector(text=html)\n",
    "Market_Cap = response.xpath('//*[@id=\"nimbus-app\"]/section/section/section/article/section[2]/div[2]/table[1]/tbody/tr[1]/td[2]/text()').extract_first()\n",
    "print('Market_Cap = '+Market_Cap)"
   ]
  },
  {
   "cell_type": "code",
   "execution_count": 4,
   "id": "7b3bbd46-dcb9-4c59-a245-9d33a4dcca38",
   "metadata": {},
   "outputs": [
    {
     "name": "stdout",
     "output_type": "stream",
     "text": [
      "37.74M\n"
     ]
    }
   ],
   "source": [
    "html = requests.get('https://finance.yahoo.com/quote/AMZN/key-statistics/', headers=headers).text\n",
    "response = Selector(text=html)\n",
    "_3_Month_Trading_Volume = response.xpath('//*[@id=\"nimbus-app\"]/section/section/section/article/article/div/section[2]/div/section[2]/table/tbody/tr[1]/td[2]/text()').extract_first()\n",
    "print(_3_Month_Trading_Volume)"
   ]
  },
  {
   "cell_type": "code",
   "execution_count": 15,
   "id": "f8a0b4e1-04da-4bf8-a115-30f87d77e00a",
   "metadata": {},
   "outputs": [],
   "source": [
    "#2.) Revenue growth exceeding 3-4% for the last 2 years"
   ]
  },
  {
   "cell_type": "code",
   "execution_count": 16,
   "id": "0d602c78-d33b-4fd5-876a-31095bc600e5",
   "metadata": {},
   "outputs": [
    {
     "name": "stdout",
     "output_type": "stream",
     "text": [
      "574,785,000.00 \n"
     ]
    }
   ],
   "source": [
    "html = requests.get('https://finance.yahoo.com/quote/AMZN/financials/', headers=headers).text\n",
    "response = Selector(text=html)\n",
    "Revenue_Most_Recent_Annual_Statement = response.xpath('//*[@id=\"nimbus-app\"]/section/section/section/article/article/section/div/div[1]/div[2]/div[1]/div[3]/text()').extract_first()\n",
    "print(Revenue_Most_Recent_Annual_Statement)"
   ]
  },
  {
   "cell_type": "code",
   "execution_count": 17,
   "id": "7298950f-ed3d-4d97-a867-06be0fffd654",
   "metadata": {},
   "outputs": [
    {
     "name": "stdout",
     "output_type": "stream",
     "text": [
      "513,983,000.00 \n"
     ]
    }
   ],
   "source": [
    "html = requests.get('https://finance.yahoo.com/quote/AMZN/financials/', headers=headers).text\n",
    "response = Selector(text=html)\n",
    "Revenue_One_Annual_Statement_Ago = response.xpath('//*[@id=\"nimbus-app\"]/section/section/section/article/article/section/div/div[1]/div[2]/div[1]/div[4]/text()').extract_first()\n",
    "print(Revenue_One_Annual_Statement_Ago)"
   ]
  },
  {
   "cell_type": "code",
   "execution_count": 18,
   "id": "b71cc686-7b62-438a-9f5b-000da47e4ecd",
   "metadata": {},
   "outputs": [
    {
     "name": "stdout",
     "output_type": "stream",
     "text": [
      "469,822,000.00 \n"
     ]
    }
   ],
   "source": [
    "html = requests.get('https://finance.yahoo.com/quote/AMZN/financials/', headers=headers).text\n",
    "response = Selector(text=html)\n",
    "Revenue_Two_Annual_Statements_Ago = response.xpath('//*[@id=\"nimbus-app\"]/section/section/section/article/article/section/div/div[1]/div[2]/div[1]/div[5]/text()').extract_first()\n",
    "print(Revenue_Two_Annual_Statements_Ago)"
   ]
  },
  {
   "cell_type": "code",
   "execution_count": 19,
   "id": "a97561da-47c9-477c-82d9-c5c3b5145d58",
   "metadata": {},
   "outputs": [],
   "source": [
    "#3.) Earnings growth in the last 2 years"
   ]
  },
  {
   "cell_type": "code",
   "execution_count": 20,
   "id": "f73a9632-ce9e-493b-96ff-d04b70197099",
   "metadata": {},
   "outputs": [
    {
     "name": "stdout",
     "output_type": "stream",
     "text": [
      "574,785,000.00 \n"
     ]
    }
   ],
   "source": [
    "html = requests.get('https://finance.yahoo.com/quote/AMZN/financials/', headers=headers).text\n",
    "response = Selector(text=html)\n",
    "Earnings_Most_Recent_Annual_Statement = response.xpath('//*[@id=\"nimbus-app\"]/section/section/section/article/article/section/div/div[1]/div[2]/div[11]/div[3]/text()').extract_first()\n",
    "print(Revenue_Most_Recent_Annual_Statement)"
   ]
  },
  {
   "cell_type": "code",
   "execution_count": 21,
   "id": "b3df0642-3677-4d99-ac00-e6307ddcfbdc",
   "metadata": {},
   "outputs": [
    {
     "name": "stdout",
     "output_type": "stream",
     "text": [
      "513,983,000.00 \n"
     ]
    }
   ],
   "source": [
    "html = requests.get('https://finance.yahoo.com/quote/AMZN/financials/', headers=headers).text\n",
    "response = Selector(text=html)\n",
    "Earnings_One_Annual_Statement_Ago = response.xpath('//*[@id=\"nimbus-app\"]/section/section/section/article/article/section/div/div[1]/div[2]/div[11]/div[4]/text()').extract_first()\n",
    "print(Revenue_One_Annual_Statement_Ago)"
   ]
  },
  {
   "cell_type": "code",
   "execution_count": 22,
   "id": "944a55a3-4677-4641-a44b-6622569ac107",
   "metadata": {},
   "outputs": [
    {
     "name": "stdout",
     "output_type": "stream",
     "text": [
      "33,364,000.00 \n"
     ]
    }
   ],
   "source": [
    "html = requests.get('https://finance.yahoo.com/quote/AMZN/financials/', headers=headers).text\n",
    "response = Selector(text=html)\n",
    "Earnings_Two_Annual_Statements_Ago = response.xpath('//*[@id=\"nimbus-app\"]/section/section/section/article/article/section/div/div[1]/div[2]/div[11]/div[5]/text()').extract_first()\n",
    "print(Earnings_Two_Annual_Statements_Ago)"
   ]
  },
  {
   "cell_type": "code",
   "execution_count": null,
   "id": "2848a7d1-d622-4576-8eea-18229807b13a",
   "metadata": {},
   "outputs": [],
   "source": [
    "#4.) Positive earnings surprise sometime within the past 2 quarters"
   ]
  },
  {
   "cell_type": "code",
   "execution_count": 97,
   "id": "bd40e8b1-4844-4a6f-8a4d-1108b68c52e7",
   "metadata": {},
   "outputs": [
    {
     "name": "stdout",
     "output_type": "stream",
     "text": [
      "25.17%\n"
     ]
    }
   ],
   "source": [
    "html = requests.get('https://finance.yahoo.com/quote/AMZN/analysis/', headers=headers).text\n",
    "response = Selector(text=html)\n",
    "Earnings_Surprise_Most_Recent_Quarter_Percent = response.xpath('//*[@id=\"nimbus-app\"]/section/section/section/article/section[4]/div/table/tbody/tr[4]/td[5]/text()').extract_first()\n",
    "print(Earnings_Surprise_Most_Recent_Quarter_Percent)"
   ]
  },
  {
   "cell_type": "code",
   "execution_count": 99,
   "id": "6f5d641c-e62b-4e33-8cbb-5ecd58c755f3",
   "metadata": {},
   "outputs": [
    {
     "name": "stdout",
     "output_type": "stream",
     "text": [
      "22.92%\n"
     ]
    }
   ],
   "source": [
    "html = requests.get('https://finance.yahoo.com/quote/AMZN/analysis/', headers=headers).text\n",
    "response = Selector(text=html)\n",
    "Earnings_Surprise_One_Quarter_Ago_Percent = response.xpath('//*[@id=\"nimbus-app\"]/section/section/section/article/section[4]/div/table/tbody/tr[4]/td[4]/text()').extract_first()\n",
    "print(Earnings_Surprise_One_Quarter_Ago_Percent)"
   ]
  },
  {
   "cell_type": "code",
   "execution_count": 24,
   "id": "57520f65-1f51-410e-9356-64e526759d4b",
   "metadata": {},
   "outputs": [],
   "source": [
    "#5.) ROE and/or ROIC growing in the last 3 years\n",
    "#Return on Equity (ROE) = Net Income ÷ Average Shareholders’ Equity\n",
    "#Average Shareholders’ Equity = ( Last Statement - Previous Statement ) / Previous Statement"
   ]
  },
  {
   "cell_type": "code",
   "execution_count": 25,
   "id": "b28fb508-7a7e-43a7-a2f8-266efc570f39",
   "metadata": {},
   "outputs": [],
   "source": [
    "#ROE Scrapings"
   ]
  },
  {
   "cell_type": "code",
   "execution_count": 26,
   "id": "4dd6f3b4-f550-4e18-b689-7025a47de0f0",
   "metadata": {},
   "outputs": [
    {
     "name": "stdout",
     "output_type": "stream",
     "text": [
      "201,875,000.00 \n"
     ]
    }
   ],
   "source": [
    "html = requests.get('https://finance.yahoo.com/quote/AMZN/balance-sheet/', headers=headers).text\n",
    "response = Selector(text=html)\n",
    "Shareholders_Equity_Most_Recent_Annual_Statement = response.xpath('//*[@id=\"nimbus-app\"]/section/section/section/article/article/section/div/div[1]/div[2]/div[3]/div[2]/text()').extract_first()\n",
    "print(Shareholders_Equity_Most_Recent_Annual_Statement)"
   ]
  },
  {
   "cell_type": "code",
   "execution_count": 27,
   "id": "0dd1ffa0-fa46-4ecc-ac5a-a09bb2a4f630",
   "metadata": {},
   "outputs": [
    {
     "name": "stdout",
     "output_type": "stream",
     "text": [
      "146,043,000.00 \n"
     ]
    }
   ],
   "source": [
    "html = requests.get('https://finance.yahoo.com/quote/AMZN/balance-sheet/', headers=headers).text\n",
    "response = Selector(text=html)\n",
    "Shareholders_Equity_One_Annual_Statement_Ago = response.xpath('//*[@id=\"nimbus-app\"]/section/section/section/article/article/section/div/div[1]/div[2]/div[3]/div[3]/text()').extract_first()\n",
    "print(Shareholders_Equity_One_Annual_Statement_Ago)"
   ]
  },
  {
   "cell_type": "code",
   "execution_count": 28,
   "id": "65068a5e-8ef4-4169-a6b6-78fbb2300d2b",
   "metadata": {},
   "outputs": [
    {
     "name": "stdout",
     "output_type": "stream",
     "text": [
      "138,245,000.00 \n"
     ]
    }
   ],
   "source": [
    "html = requests.get('https://finance.yahoo.com/quote/AMZN/balance-sheet/', headers=headers).text\n",
    "response = Selector(text=html)\n",
    "Shareholders_Equity_Two_Annual_Statements_Ago = response.xpath('//*[@id=\"nimbus-app\"]/section/section/section/article/article/section/div/div[1]/div[2]/div[3]/div[4]/text()').extract_first()\n",
    "print(Shareholders_Equity_Two_Annual_Statements_Ago)"
   ]
  },
  {
   "cell_type": "code",
   "execution_count": 29,
   "id": "16e19a5a-23ac-4d7f-8582-6b93e6f9a493",
   "metadata": {},
   "outputs": [
    {
     "name": "stdout",
     "output_type": "stream",
     "text": [
      "93,404,000.00 \n"
     ]
    }
   ],
   "source": [
    "html = requests.get('https://finance.yahoo.com/quote/AMZN/balance-sheet/', headers=headers).text\n",
    "response = Selector(text=html)\n",
    "Shareholders_Equity_Three_Annual_Statements_Ago = response.xpath('//*[@id=\"nimbus-app\"]/section/section/section/article/article/section/div/div[1]/div[2]/div[3]/div[5]/text()').extract_first()\n",
    "print(Shareholders_Equity_Three_Annual_Statements_Ago)"
   ]
  },
  {
   "cell_type": "code",
   "execution_count": 30,
   "id": "d3fb145d-2d54-498e-8e3f-bbc7c3d3a16a",
   "metadata": {},
   "outputs": [],
   "source": [
    "#ROIC May be added at a later date. A bit too much computation for me to deal with right now. ROE is just easier."
   ]
  },
  {
   "cell_type": "code",
   "execution_count": 31,
   "id": "c044eb4d-f2ae-4052-96b6-7b52d234fb69",
   "metadata": {},
   "outputs": [],
   "source": [
    "#6.) PEG ratio is less than the industry average"
   ]
  },
  {
   "cell_type": "code",
   "execution_count": 32,
   "id": "1f417935-7364-4578-88d4-31eafaa46bce",
   "metadata": {},
   "outputs": [
    {
     "name": "stdout",
     "output_type": "stream",
     "text": [
      "1.83 \n"
     ]
    }
   ],
   "source": [
    "html = requests.get('https://finance.yahoo.com/quote/AMZN/key-statistics/', headers=headers).text\n",
    "response = Selector(text=html)\n",
    "PEG_Ratio = response.xpath('//*[@id=\"nimbus-app\"]/section/section/section/article/section[2]/div[2]/table[1]/tbody/tr[5]/td[2]/text()').extract_first()\n",
    "print(PEG_Ratio)"
   ]
  },
  {
   "cell_type": "code",
   "execution_count": 33,
   "id": "8f4ab3ae-7ffd-40ed-bebc-192e5a47272b",
   "metadata": {},
   "outputs": [],
   "source": [
    "#7.) Current Ratio greater than 1"
   ]
  },
  {
   "cell_type": "code",
   "execution_count": 37,
   "id": "9ec9f37e-7521-4f1d-a6ce-638354fa55b0",
   "metadata": {},
   "outputs": [
    {
     "name": "stdout",
     "output_type": "stream",
     "text": [
      "1.09\n"
     ]
    }
   ],
   "source": [
    "html = requests.get('https://finance.yahoo.com/quote/AMZN/key-statistics/', headers=headers).text\n",
    "response = Selector(text=html)\n",
    "Current_Ratio = response.xpath('//*[@id=\"nimbus-app\"]/section/section/section/article/article/div/section[1]/div/section[5]/table/tbody/tr[5]/td[2]/text()').extract_first()\n",
    "print(Current_Ratio)"
   ]
  },
  {
   "cell_type": "code",
   "execution_count": 34,
   "id": "709dcd33-6590-428c-bdb7-22b97f9e615c",
   "metadata": {},
   "outputs": [],
   "source": [
    "#8.) P/E less than the industry average"
   ]
  },
  {
   "cell_type": "code",
   "execution_count": 35,
   "id": "1379fc1f-8d61-4607-9ac5-80edd32d437d",
   "metadata": {},
   "outputs": [
    {
     "name": "stdout",
     "output_type": "stream",
     "text": [
      "47.81 \n"
     ]
    }
   ],
   "source": [
    "html = requests.get('https://finance.yahoo.com/quote/AMZN/key-statistics/', headers=headers).text\n",
    "response = Selector(text=html)\n",
    "Trailing_P_E_Ratio = response.xpath('//*[@id=\"nimbus-app\"]/section/section/section/article/section[2]/div[2]/table[1]/tbody/tr[3]/td[2]/text()').extract_first()\n",
    "print(Trailing_P_E_Ratio)"
   ]
  },
  {
   "cell_type": "code",
   "execution_count": null,
   "id": "bc3514c7-479e-460c-ad07-1ff4680ad5bb",
   "metadata": {},
   "outputs": [],
   "source": [
    "#9.) Operating Margin exceeding sector average, preferably a company within a profitable industry."
   ]
  },
  {
   "cell_type": "code",
   "execution_count": 39,
   "id": "3a09aee1-b086-428e-8dd9-3cc8d3fe0cd7",
   "metadata": {},
   "outputs": [
    {
     "name": "stdout",
     "output_type": "stream",
     "text": [
      "10.96%\n"
     ]
    }
   ],
   "source": [
    "html = requests.get('https://finance.yahoo.com/quote/AMZN/key-statistics/', headers=headers).text\n",
    "response = Selector(text=html)\n",
    "Operating_Margin = response.xpath('//*[@id=\"nimbus-app\"]/section/section/section/article/article/div/section[1]/div/section[2]/table/tbody/tr[2]/td[2]/text()').extract_first()\n",
    "print(Operating_Margin)"
   ]
  },
  {
   "cell_type": "code",
   "execution_count": 99,
   "id": "1eb7de4d-a79b-4b4c-95a6-5895d4652335",
   "metadata": {},
   "outputs": [
    {
     "ename": "SyntaxError",
     "evalue": "incomplete input (3833614413.py, line 65)",
     "output_type": "error",
     "traceback": [
      "\u001b[1;36m  Cell \u001b[1;32mIn[99], line 65\u001b[1;36m\u001b[0m\n\u001b[1;33m    \"\"\"\u001b[0m\n\u001b[1;37m    ^\u001b[0m\n\u001b[1;31mSyntaxError\u001b[0m\u001b[1;31m:\u001b[0m incomplete input\n"
     ]
    }
   ],
   "source": [
    "\"\"\"Ticker = 'AMZN'\n",
    "\n",
    "#                                                                 key-statistics\n",
    "html = requests.get(f'https://finance.yahoo.com/quote/{Ticker}/key-statistics/', headers=headers).text\n",
    "response = Selector(text=html)\n",
    "Market_Cap = response.xpath('//*[@id=\"nimbus-app\"]/section/section/section/article/section[2]/div[2]/table[1]/tbody/tr[1]/td[2]/text()').extract_first()\n",
    "print('Market_Cap = '+Market_Cap)\n",
    "#\n",
    "_3_Month_Trading_Volume = response.xpath('//*[@id=\"nimbus-app\"]/section/section/section/article/article/div/section[2]/div/section[2]/table/tbody/tr[1]/td[2]/text()').extract_first()\n",
    "print('3_Month_Trading_Volume = '+_3_Month_Trading_Volume)\n",
    "#\n",
    "PEG_Ratio = response.xpath('//*[@id=\"nimbus-app\"]/section/section/section/article/section[2]/div[2]/table[1]/tbody/tr[5]/td[2]/text()').extract_first()\n",
    "print('PEG_Ratio = '+PEG_Ratio)\n",
    "#\n",
    "Current_Ratio = response.xpath('//*[@id=\"nimbus-app\"]/section/section/section/article/article/div/section[1]/div/section[5]/table/tbody/tr[5]/td[2]/text()').extract_first()\n",
    "print('Current_Ratio = '+Current_Ratio)\n",
    "#\n",
    "Trailing_P_E_Ratio = response.xpath('//*[@id=\"nimbus-app\"]/section/section/section/article/section[2]/div[2]/table[1]/tbody/tr[3]/td[2]/text()').extract_first()\n",
    "print('Trailing_P_E_Ratio = '+Trailing_P_E_Ratio)\n",
    "#\n",
    "Operating_Margin = response.xpath('//*[@id=\"nimbus-app\"]/section/section/section/article/article/div/section[1]/div/section[2]/table/tbody/tr[2]/td[2]/text()').extract_first()\n",
    "print('Operating_Margin = '+Operating_Margin)\n",
    "#                                                                 financials\n",
    "html = requests.get(f'https://finance.yahoo.com/quote/{Ticker}/financials/', headers=headers).text\n",
    "response = Selector(text=html)\n",
    "Revenue_Most_Recent_Annual_Statement = response.xpath('//*[@id=\"nimbus-app\"]/section/section/section/article/article/section/div/div[1]/div[2]/div[1]/div[3]/text()').extract_first()\n",
    "print('Revenue_Most_Recent_Annual_Statement = '+Revenue_Most_Recent_Annual_Statement)\n",
    "#\n",
    "Revenue_One_Annual_Statement_Ago = response.xpath('//*[@id=\"nimbus-app\"]/section/section/section/article/article/section/div/div[1]/div[2]/div[1]/div[4]/text()').extract_first()\n",
    "print('Revenue_One_Annual_Statement_Ago = '+Revenue_One_Annual_Statement_Ago)\n",
    "#\n",
    "Revenue_Two_Annual_Statements_Ago = response.xpath('//*[@id=\"nimbus-app\"]/section/section/section/article/article/section/div/div[1]/div[2]/div[1]/div[5]/text()').extract_first()\n",
    "print('Revenue_Two_Annual_Statements_Ago = '+Revenue_One_Annual_Statement_Ago)\n",
    "#\n",
    "Earnings_Most_Recent_Annual_Statement = response.xpath('//*[@id=\"nimbus-app\"]/section/section/section/article/article/section/div/div[1]/div[2]/div[11]/div[3]/text()').extract_first()\n",
    "print('Revenue_Most_Recent_Annual_Statement = '+Revenue_Most_Recent_Annual_Statement)\n",
    "#\n",
    "Earnings_One_Annual_Statement_Ago = response.xpath('//*[@id=\"nimbus-app\"]/section/section/section/article/article/section/div/div[1]/div[2]/div[11]/div[4]/text()').extract_first()\n",
    "print('Revenue_One_Annual_Statement_Ago = '+Revenue_One_Annual_Statement_Ago)\n",
    "#\n",
    "Earnings_Two_Annual_Statements_Ago = response.xpath('//*[@id=\"nimbus-app\"]/section/section/section/article/article/section/div/div[1]/div[2]/div[11]/div[5]/text()').extract_first()\n",
    "print('Earnings_Two_Annual_Statements_Ago = '+Earnings_Two_Annual_Statements_Ago)\n",
    "#                                                                  analysis\n",
    "html = requests.get(f'https://finance.yahoo.com/quote/{Ticker}/analysis/', headers=headers).text\n",
    "response = Selector(text=html)\n",
    "Earnings_Surprise_Most_Recent_Quarter_Percent = response.xpath('//*[@id=\"nimbus-app\"]/section/section/section/article/section[4]/div/table/tbody/tr[4]/td[5]/text()').extract_first()\n",
    "print('Earnings_Surprise_Most_Recent_Quarter_Percent = '+Earnings_Surprise_Most_Recent_Quarter_Percent)\n",
    "#\n",
    "Earnings_Surprise_One_Quarter_Ago_Percent = response.xpath('//*[@id=\"nimbus-app\"]/section/section/section/article/section[4]/div/table/tbody/tr[4]/td[4]/text()').extract_first()\n",
    "print('Earnings_Surprise_One_Quarter_Ago_Percent = '+Earnings_Surprise_One_Quarter_Ago_Percent)\n",
    "#                                                                 balance-sheet\n",
    "html = requests.get(f'https://finance.yahoo.com/quote/{Ticker}/balance-sheet/', headers=headers).text\n",
    "response = Selector(text=html)\n",
    "Shareholders_Equity_Most_Recent_Annual_Statement = response.xpath('//*[@id=\"nimbus-app\"]/section/section/section/article/article/section/div/div[1]/div[2]/div[3]/div[2]/text()').extract_first()\n",
    "print('Shareholders_Equity_Most_Recent_Annual_Statement = '+Shareholders_Equity_Most_Recent_Annual_Statement)\n",
    "#\n",
    "Shareholders_Equity_One_Annual_Statement_Ago = response.xpath('//*[@id=\"nimbus-app\"]/section/section/section/article/article/section/div/div[1]/div[2]/div[3]/div[3]/text()').extract_first()\n",
    "print('Shareholders_Equity_One_Annual_Statement_Ago = '+Shareholders_Equity_One_Annual_Statement_Ago)\n",
    "#\n",
    "Shareholders_Equity_Two_Annual_Statements_Ago = response.xpath('//*[@id=\"nimbus-app\"]/section/section/section/article/article/section/div/div[1]/div[2]/div[3]/div[4]/text()').extract_first()\n",
    "print('Shareholders_Equity_Two_Annual_Statements_Ago = '+Shareholders_Equity_Two_Annual_Statements_Ago)\n",
    "#\n",
    "Shareholders_Equity_Three_Annual_Statements_Ago = response.xpath('//*[@id=\"nimbus-app\"]/section/section/section/article/article/section/div/div[1]/div[2]/div[3]/div[5]/text()').extract_first()\n",
    "print('Shareholders_Equity_Three_Annual_Statements_Ago = '+Shareholders_Equity_Three_Annual_Statements_Ago)\n",
    "\"\"\"\n",
    "print('For Reference')"
   ]
  },
  {
   "cell_type": "code",
   "execution_count": 97,
   "id": "a9d80fbd-0a1d-45ea-b114-72ac56681667",
   "metadata": {},
   "outputs": [
    {
     "name": "stdout",
     "output_type": "stream",
     "text": [
      "For Reference\n"
     ]
    }
   ],
   "source": [
    "\"\"\"Ticker = 'MCD'\n",
    "\n",
    "#                                                                 key-statistics\n",
    "html = requests.get(f'https://finance.yahoo.com/quote/{Ticker}/key-statistics/', headers=headers).text\n",
    "response = Selector(text=html)\n",
    "Market_Cap = response.xpath('//*[@id=\"nimbus-app\"]/section/section/section/article/section[2]/div[2]/table[1]/tbody/tr[1]/td[2]/text()').extract_first()\n",
    "#\n",
    "_3_Month_Trading_Volume = response.xpath('//*[@id=\"nimbus-app\"]/section/section/section/article/article/div/section[2]/div/section[2]/table/tbody/tr[1]/td[2]/text()').extract_first()\n",
    "#\n",
    "PEG_Ratio = response.xpath('//*[@id=\"nimbus-app\"]/section/section/section/article/section[2]/div[2]/table[1]/tbody/tr[5]/td[2]/text()').extract_first()\n",
    "#\n",
    "Current_Ratio = response.xpath('//*[@id=\"nimbus-app\"]/section/section/section/article/article/div/section[1]/div/section[5]/table/tbody/tr[5]/td[2]/text()').extract_first()\n",
    "#\n",
    "Trailing_P_E_Ratio = response.xpath('//*[@id=\"nimbus-app\"]/section/section/section/article/section[2]/div[2]/table[1]/tbody/tr[3]/td[2]/text()').extract_first()\n",
    "#\n",
    "Operating_Margin = response.xpath('//*[@id=\"nimbus-app\"]/section/section/section/article/article/div/section[1]/div/section[2]/table/tbody/tr[2]/td[2]/text()').extract_first()\n",
    "#                                                                 financials\n",
    "html = requests.get(f'https://finance.yahoo.com/quote/{Ticker}/financials/', headers=headers).text\n",
    "response = Selector(text=html)\n",
    "Revenue_Most_Recent_Annual_Statement = response.xpath('//*[@id=\"nimbus-app\"]/section/section/section/article/article/section/div/div[1]/div[2]/div[1]/div[3]/text()').extract_first()\n",
    "#\n",
    "Revenue_One_Annual_Statement_Ago = response.xpath('//*[@id=\"nimbus-app\"]/section/section/section/article/article/section/div/div[1]/div[2]/div[1]/div[4]/text()').extract_first()\n",
    "#\n",
    "Revenue_Two_Annual_Statements_Ago = response.xpath('//*[@id=\"nimbus-app\"]/section/section/section/article/article/section/div/div[1]/div[2]/div[1]/div[5]/text()').extract_first()\n",
    "#\n",
    "Earnings_Most_Recent_Annual_Statement = response.xpath('//*[@id=\"nimbus-app\"]/section/section/section/article/article/section/div/div[1]/div[2]/div[11]/div[3]/text()').extract_first()\n",
    "#\n",
    "Earnings_One_Annual_Statement_Ago = response.xpath('//*[@id=\"nimbus-app\"]/section/section/section/article/article/section/div/div[1]/div[2]/div[11]/div[4]/text()').extract_first()\n",
    "#\n",
    "Earnings_Two_Annual_Statements_Ago = response.xpath('//*[@id=\"nimbus-app\"]/section/section/section/article/article/section/div/div[1]/div[2]/div[11]/div[5]/text()').extract_first()\n",
    "#                                                                  analysis\n",
    "html = requests.get(f'https://finance.yahoo.com/quote/{Ticker}/analysis/', headers=headers).text\n",
    "response = Selector(text=html)\n",
    "Earnings_Surprise_Most_Recent_Quarter_Percent = response.xpath('//*[@id=\"nimbus-app\"]/section/section/section/article/section[4]/div/table/tbody/tr[4]/td[5]/text()').extract_first()\n",
    "#\n",
    "Earnings_Surprise_One_Quarter_Ago_Percent = response.xpath('//*[@id=\"nimbus-app\"]/section/section/section/article/section[4]/div/table/tbody/tr[4]/td[4]/text()').extract_first()\n",
    "#                                                                 balance-sheet\n",
    "html = requests.get(f'https://finance.yahoo.com/quote/{Ticker}/balance-sheet/', headers=headers).text\n",
    "response = Selector(text=html)\n",
    "Shareholders_Equity_Most_Recent_Annual_Statement = response.xpath('//*[@id=\"nimbus-app\"]/section/section/section/article/article/section/div/div[1]/div[2]/div[3]/div[2]/text()').extract_first()\n",
    "#\n",
    "Shareholders_Equity_One_Annual_Statement_Ago = response.xpath('//*[@id=\"nimbus-app\"]/section/section/section/article/article/section/div/div[1]/div[2]/div[3]/div[3]/text()').extract_first()\n",
    "#\n",
    "Shareholders_Equity_Two_Annual_Statements_Ago = response.xpath('//*[@id=\"nimbus-app\"]/section/section/section/article/article/section/div/div[1]/div[2]/div[3]/div[4]/text()').extract_first()\n",
    "#\n",
    "Shareholders_Equity_Three_Annual_Statements_Ago = response.xpath('//*[@id=\"nimbus-app\"]/section/section/section/article/article/section/div/div[1]/div[2]/div[3]/div[5]/text()').extract_first()\n",
    "\"\"\"\n",
    "print('For Reference')"
   ]
  },
  {
   "cell_type": "code",
   "execution_count": 325,
   "id": "2d43a16b-9ef1-4379-a3be-250bb0889362",
   "metadata": {},
   "outputs": [],
   "source": [
    "def convert_values(value):\n",
    "    \"\"\"\n",
    "    Convert a string with T, B, M, %, or plain numbers into their respective number values.\n",
    "    \"\"\"\n",
    "    \n",
    "    if ',' in value:\n",
    "        return float(value.replace(',', ''))\n",
    "    elif 'T' in value:\n",
    "        return float(value.replace('T', '')) * 1_000_000_000_000\n",
    "    elif 'B' in value:\n",
    "        return float(value.replace('B', '')) * 1_000_000_000\n",
    "    elif 'M' in value:\n",
    "        return float(value.replace('M', '')) * 1_000_000\n",
    "    elif '%' in value:\n",
    "        return float(value.replace('%', ''))\n",
    "    else:\n",
    "        return float(value)"
   ]
  },
  {
   "cell_type": "code",
   "execution_count": 95,
   "id": "fc6ff669-0a7b-473b-8956-bcaecd1fa771",
   "metadata": {},
   "outputs": [
    {
     "name": "stdout",
     "output_type": "stream",
     "text": [
      "For Reference\n"
     ]
    }
   ],
   "source": [
    "\"\"\"tickers = ['AMZN','MCD']\n",
    "\n",
    "def get_data(Ticker):\n",
    "    headers = {'User-Agent': 'Mozilla/5.0 (Windows NT 10.0; Win64; x64) AppleWebKit/537.36 (KHTML, like Gecko) Chrome/71.0.3578.98 Safari/537.36' } \n",
    "    #                                                                 key-statistics\n",
    "    html = requests.get(f'https://finance.yahoo.com/quote/{Ticker}/key-statistics/', headers=headers).text\n",
    "    response = Selector(text=html)\n",
    "    Market_Cap = response.xpath('//*[@id=\"nimbus-app\"]/section/section/section/article/section[2]/div[2]/table[1]/tbody/tr[1]/td[2]/text()').extract_first()\n",
    "    Market_Cap = convert_values(Market_Cap)\n",
    "    #\n",
    "    _3_Month_Trading_Volume = response.xpath('//*[@id=\"nimbus-app\"]/section/section/section/article/article/div/section[2]/div/section[2]/table/tbody/tr[1]/td[2]/text()').extract_first()\n",
    "    _3_Month_Trading_Volume = convert_values(_3_Month_Trading_Volume)\n",
    "    #\n",
    "    PEG_Ratio = response.xpath('//*[@id=\"nimbus-app\"]/section/section/section/article/section[2]/div[2]/table[1]/tbody/tr[5]/td[2]/text()').extract_first()\n",
    "    PEG_Ratio = convert_values(PEG_Ratio)\n",
    "    #\n",
    "    Current_Ratio = response.xpath('//*[@id=\"nimbus-app\"]/section/section/section/article/article/div/section[1]/div/section[5]/table/tbody/tr[5]/td[2]/text()').extract_first()\n",
    "    Current_Ratio = convert_values(Current_Ratio)\n",
    "    #\n",
    "    Trailing_P_E_Ratio = response.xpath('//*[@id=\"nimbus-app\"]/section/section/section/article/section[2]/div[2]/table[1]/tbody/tr[3]/td[2]/text()').extract_first()\n",
    "    Trailing_P_E_Ratio = convert_values(Trailing_P_E_Ratio)\n",
    "    #\n",
    "    Operating_Margin = response.xpath('//*[@id=\"nimbus-app\"]/section/section/section/article/article/div/section[1]/div/section[2]/table/tbody/tr[2]/td[2]/text()').extract_first()\n",
    "    Operating_Margin = convert_values(Operating_Margin)\n",
    "    #                                                                 financials\n",
    "    html = requests.get(f'https://finance.yahoo.com/quote/{Ticker}/financials/', headers=headers).text\n",
    "    response = Selector(text=html)\n",
    "    Revenue_Most_Recent_Annual_Statement = response.xpath('//*[@id=\"nimbus-app\"]/section/section/section/article/article/section/div/div[1]/div[2]/div[1]/div[3]/text()').extract_first()\n",
    "    Revenue_Most_Recent_Annual_Statement = convert_values(Revenue_Most_Recent_Annual_Statement)\n",
    "    #\n",
    "    Revenue_One_Annual_Statement_Ago = response.xpath('//*[@id=\"nimbus-app\"]/section/section/section/article/article/section/div/div[1]/div[2]/div[1]/div[4]/text()').extract_first()\n",
    "    Revenue_One_Annual_Statement_Ago = convert_values(Revenue_One_Annual_Statement_Ago)\n",
    "    #\n",
    "    Revenue_Two_Annual_Statements_Ago = response.xpath('//*[@id=\"nimbus-app\"]/section/section/section/article/article/section/div/div[1]/div[2]/div[1]/div[5]/text()').extract_first()\n",
    "    Revenue_Two_Annual_Statements_Ago = convert_values(Revenue_Two_Annual_Statements_Ago)\n",
    "    #\n",
    "    Earnings_Most_Recent_Annual_Statement = response.xpath('//*[@id=\"nimbus-app\"]/section/section/section/article/article/section/div/div[1]/div[2]/div[11]/div[3]/text()').extract_first()\n",
    "    Earnings_Most_Recent_Annual_Statement = convert_values(Earnings_Most_Recent_Annual_Statement)\n",
    "    #\n",
    "    Earnings_One_Annual_Statement_Ago = response.xpath('//*[@id=\"nimbus-app\"]/section/section/section/article/article/section/div/div[1]/div[2]/div[11]/div[4]/text()').extract_first()\n",
    "    Earnings_One_Annual_Statement_Ago = convert_values(Earnings_One_Annual_Statement_Ago)\n",
    "    #\n",
    "    Earnings_Two_Annual_Statements_Ago = response.xpath('//*[@id=\"nimbus-app\"]/section/section/section/article/article/section/div/div[1]/div[2]/div[11]/div[5]/text()').extract_first()\n",
    "    Earnings_Two_Annual_Statements_Ago = convert_values(Earnings_Two_Annual_Statements_Ago)\n",
    "    #                                                                  analysis\n",
    "    html = requests.get(f'https://finance.yahoo.com/quote/{Ticker}/analysis/', headers=headers).text\n",
    "    response = Selector(text=html)\n",
    "    Earnings_Surprise_Most_Recent_Quarter_Percent = response.xpath('//*[@id=\"nimbus-app\"]/section/section/section/article/section[4]/div/table/tbody/tr[4]/td[5]/text()').extract_first()\n",
    "    Earnings_Surprise_Most_Recent_Quarter_Percent = convert_values(Earnings_Surprise_Most_Recent_Quarter_Percent)\n",
    "    #\n",
    "    Earnings_Surprise_One_Quarter_Ago_Percent = response.xpath('//*[@id=\"nimbus-app\"]/section/section/section/article/section[4]/div/table/tbody/tr[4]/td[4]/text()').extract_first()\n",
    "    Earnings_Surprise_One_Quarter_Ago_Percent = convert_values(Earnings_Surprise_One_Quarter_Ago_Percent)\n",
    "    #                                                                 balance-sheet\n",
    "    html = requests.get(f'https://finance.yahoo.com/quote/{Ticker}/balance-sheet/', headers=headers).text\n",
    "    response = Selector(text=html)\n",
    "    Shareholders_Equity_Most_Recent_Annual_Statement = response.xpath('//*[@id=\"nimbus-app\"]/section/section/section/article/article/section/div/div[1]/div[2]/div[3]/div[2]/text()').extract_first()\n",
    "    Shareholders_Equity_Most_Recent_Annual_Statement = convert_values(Shareholders_Equity_Most_Recent_Annual_Statement)\n",
    "    #\n",
    "    Shareholders_Equity_One_Annual_Statement_Ago = response.xpath('//*[@id=\"nimbus-app\"]/section/section/section/article/article/section/div/div[1]/div[2]/div[3]/div[3]/text()').extract_first()\n",
    "    Shareholders_Equity_One_Annual_Statement_Ago = convert_values(Shareholders_Equity_One_Annual_Statement_Ago)\n",
    "    #\n",
    "    Shareholders_Equity_Two_Annual_Statements_Ago = response.xpath('//*[@id=\"nimbus-app\"]/section/section/section/article/article/section/div/div[1]/div[2]/div[3]/div[4]/text()').extract_first()\n",
    "    Shareholders_Equity_Two_Annual_Statements_Ago = convert_values(Shareholders_Equity_Two_Annual_Statements_Ago)\n",
    "    #\n",
    "    Shareholders_Equity_Three_Annual_Statements_Ago = response.xpath('//*[@id=\"nimbus-app\"]/section/section/section/article/article/section/div/div[1]/div[2]/div[3]/div[5]/text()').extract_first()\n",
    "    #\n",
    "    return Market_Cap, _3_Month_Trading_Volume, PEG_Ratio, Current_Ratio, Trailing_P_E_Ratio, Operating_Margin, Revenue_Most_Recent_Annual_Statement,\\\n",
    "Revenue_One_Annual_Statement_Ago, Revenue_Two_Annual_Statements_Ago, Earnings_Most_Recent_Annual_Statement, Earnings_One_Annual_Statement_Ago,\\\n",
    "Earnings_Two_Annual_Statements_Ago, Earnings_Surprise_Most_Recent_Quarter_Percent, Earnings_Surprise_One_Quarter_Ago_Percent, \\\n",
    "Shareholders_Equity_Most_Recent_Annual_Statement, Shareholders_Equity_One_Annual_Statement_Ago, Shareholders_Equity_Two_Annual_Statements_Ago,\\\n",
    "Shareholders_Equity_Three_Annual_Statements_Ago\n",
    "\n",
    "# Initalize a new pandas DataFrame\n",
    "df = pd.DataFrame(columns = ['Ticker','Market_Cap','_3_Month_Trading_Volume','PEG_Ratio','Current_Ratio','Trailing_P_E_Ratio','Operating_Margin',\n",
    "                             'Revenue_Most_Recent_Annual_Statement','Revenue_One_Annual_Statement_Ago','Revenue_Two_Annual_Statements_Ago',\n",
    "                             'Earnings_Most_Recent_Annual_Statement','Earnings_One_Annual_Statement_Ago','Earnings_Two_Annual_Statements_Ago',\n",
    "                             'Earnings_Surprise_Most_Recent_Quarter_Percent','Earnings_Surprise_One_Quarter_Ago_Percent',\n",
    "                             'Shareholders_Equity_Most_Recent_Annual_Statement','Shareholders_Equity_One_Annual_Statement_Ago',\n",
    "                             'Shareholders_Equity_Two_Annual_Statements_Ago','Shareholders_Equity_Three_Annual_Statements_Ago'])\n",
    "\n",
    "# Iterate through list of tickers and save values to our df DataFrame\n",
    "for Ticker in tickers:\n",
    "    Market_Cap, _3_Month_Trading_Volume, PEG_Ratio, Current_Ratio, Trailing_P_E_Ratio, Operating_Margin, Revenue_Most_Recent_Annual_Statement,\\\n",
    "    Revenue_One_Annual_Statement_Ago, Revenue_Two_Annual_Statements_Ago, Earnings_Most_Recent_Annual_Statement, Earnings_One_Annual_Statement_Ago,\\\n",
    "    Earnings_Two_Annual_Statements_Ago, Earnings_Surprise_Most_Recent_Quarter_Percent, Earnings_Surprise_One_Quarter_Ago_Percent, \\\n",
    "    Shareholders_Equity_Most_Recent_Annual_Statement, Shareholders_Equity_One_Annual_Statement_Ago, Shareholders_Equity_Two_Annual_Statements_Ago,\\\n",
    "    Shareholders_Equity_Three_Annual_Statements_Ago = get_data(Ticker)\n",
    "    \n",
    "    df = pd.concat([df, pd.DataFrame({'Ticker':[Ticker], 'Market_Cap':[Market_Cap], '_3_Month_Trading_Volume':[_3_Month_Trading_Volume],\n",
    "                                      'PEG_Ratio':[PEG_Ratio], 'Current_Ratio':[Current_Ratio], 'Trailing_P_E_Ratio':[Trailing_P_E_Ratio],\n",
    "                                      'Operating_Margin':[Operating_Margin], 'Revenue_Most_Recent_Annual_Statement':[Revenue_Most_Recent_Annual_Statement], \n",
    "                                      'Revenue_One_Annual_Statement_Ago':[Revenue_One_Annual_Statement_Ago], 'Revenue_Two_Annual_Statements_Ago':[Revenue_Two_Annual_Statements_Ago], \n",
    "                                      'Earnings_Most_Recent_Annual_Statement':[Earnings_Most_Recent_Annual_Statement], 'Earnings_One_Annual_Statement_Ago':[Earnings_One_Annual_Statement_Ago], \n",
    "                                      'Earnings_Two_Annual_Statements_Ago':[Earnings_Two_Annual_Statements_Ago], 'Earnings_Surprise_Most_Recent_Quarter_Percent':[Earnings_Surprise_Most_Recent_Quarter_Percent], \n",
    "                                      'Earnings_Surprise_One_Quarter_Ago_Percent':[Earnings_Surprise_One_Quarter_Ago_Percent], 'Shareholders_Equity_Most_Recent_Annual_Statement':[Shareholders_Equity_Most_Recent_Annual_Statement], \n",
    "                                      'Shareholders_Equity_One_Annual_Statement_Ago':[Shareholders_Equity_One_Annual_Statement_Ago], 'Shareholders_Equity_Two_Annual_Statements_Ago':[Shareholders_Equity_Two_Annual_Statements_Ago], \n",
    "                                      'Shareholders_Equity_Three_Annual_Statements_Ago':[Shareholders_Equity_Three_Annual_Statements_Ago]})], ignore_index=True)\n",
    "\n",
    "# Print the df DataFrame\n",
    "df.head()\"\"\"\n",
    "print('For Reference')"
   ]
  },
  {
   "cell_type": "code",
   "execution_count": 113,
   "id": "62f17834-42bf-466a-b8f3-ab3c4de0947e",
   "metadata": {
    "scrolled": true
   },
   "outputs": [
    {
     "name": "stdout",
     "output_type": "stream",
     "text": [
      "For Reference\n"
     ]
    }
   ],
   "source": [
    "\"\"\"#Dataframe with math done in the function\n",
    "\n",
    "tickers = ['AMZN','MCD']\n",
    "\n",
    "def get_data(Ticker):\n",
    "    headers = {'User-Agent': 'Mozilla/5.0 (Windows NT 10.0; Win64; x64) AppleWebKit/537.36 (KHTML, like Gecko) Chrome/71.0.3578.98 Safari/537.36' } \n",
    "    #                                                                 profile\n",
    "    html = requests.get(f'https://finance.yahoo.com/quote/{Ticker}/profile/', headers=headers).text\n",
    "    response = Selector(text=html)\n",
    "    Sector = response.xpath('//*[@id=\"nimbus-app\"]/section/section/section/article/section[2]/section[2]/div/dl/div[1]/dd/a/text()').extract_first()\n",
    "    #\n",
    "    html = requests.get(f'https://finance.yahoo.com/quote/{Ticker}/profile/', headers=headers).text\n",
    "    response = Selector(text=html)\n",
    "    Industry = response.xpath('//*[@id=\"nimbus-app\"]/section/section/section/article/section[2]/section[2]/div/dl/div[2]/a/text()').extract_first()\n",
    "    #                                                                 key-statistics\n",
    "    html = requests.get(f'https://finance.yahoo.com/quote/{Ticker}/key-statistics/', headers=headers).text\n",
    "    response = Selector(text=html)\n",
    "    Market_Cap = response.xpath('//*[@id=\"nimbus-app\"]/section/section/section/article/section[2]/div[2]/table[1]/tbody/tr[1]/td[2]/text()').extract_first()\n",
    "    Market_Cap = convert_values(Market_Cap)\n",
    "    #\n",
    "    _3_Month_Trading_Volume = response.xpath('//*[@id=\"nimbus-app\"]/section/section/section/article/article/div/section[2]/div/section[2]/table/tbody/tr[1]/td[2]/text()').extract_first()\n",
    "    _3_Month_Trading_Volume = convert_values(_3_Month_Trading_Volume)\n",
    "    #\n",
    "    PEG_Ratio = response.xpath('//*[@id=\"nimbus-app\"]/section/section/section/article/section[2]/div[2]/table[1]/tbody/tr[5]/td[2]/text()').extract_first()\n",
    "    PEG_Ratio = convert_values(PEG_Ratio)\n",
    "    #\n",
    "    Current_Ratio = response.xpath('//*[@id=\"nimbus-app\"]/section/section/section/article/article/div/section[1]/div/section[5]/table/tbody/tr[5]/td[2]/text()').extract_first()\n",
    "    Current_Ratio = convert_values(Current_Ratio)\n",
    "    #\n",
    "    Trailing_P_E_Ratio = response.xpath('//*[@id=\"nimbus-app\"]/section/section/section/article/section[2]/div[2]/table[1]/tbody/tr[3]/td[2]/text()').extract_first()\n",
    "    Trailing_P_E_Ratio = convert_values(Trailing_P_E_Ratio)\n",
    "    #\n",
    "    Operating_Margin = response.xpath('//*[@id=\"nimbus-app\"]/section/section/section/article/article/div/section[1]/div/section[2]/table/tbody/tr[2]/td[2]/text()').extract_first()\n",
    "    Operating_Margin = convert_values(Operating_Margin)\n",
    "    #                                                                 financials\n",
    "    html = requests.get(f'https://finance.yahoo.com/quote/{Ticker}/financials/', headers=headers).text\n",
    "    response = Selector(text=html)\n",
    "    #Don't include Revenue in Dataframe. We are using it to create Revenue Growth over the last two years.\n",
    "    Revenue_Most_Recent_Annual_Statement = response.xpath('//*[@id=\"nimbus-app\"]/section/section/section/article/article/section/div/div[1]/div[2]/div[1]/div[3]/text()').extract_first()\n",
    "    Revenue_Most_Recent_Annual_Statement = convert_values(Revenue_Most_Recent_Annual_Statement)\n",
    "    #\n",
    "    Revenue_One_Annual_Statement_Ago = response.xpath('//*[@id=\"nimbus-app\"]/section/section/section/article/article/section/div/div[1]/div[2]/div[1]/div[4]/text()').extract_first()\n",
    "    Revenue_One_Annual_Statement_Ago = convert_values(Revenue_One_Annual_Statement_Ago)\n",
    "    #\n",
    "    Revenue_Two_Annual_Statements_Ago = response.xpath('//*[@id=\"nimbus-app\"]/section/section/section/article/article/section/div/div[1]/div[2]/div[1]/div[5]/text()').extract_first()\n",
    "    Revenue_Two_Annual_Statements_Ago = convert_values(Revenue_Two_Annual_Statements_Ago)\n",
    "#\n",
    "    Revenue_Growth_Last_Year_Percent = ((Revenue_Most_Recent_Annual_Statement - Revenue_One_Annual_Statement_Ago) / Revenue_One_Annual_Statement_Ago)*100\n",
    "    Revenue_Growth_One_Year_Ago_Percent = ((Revenue_One_Annual_Statement_Ago - Revenue_Two_Annual_Statements_Ago) / Revenue_Two_Annual_Statements_Ago)*100\n",
    "#\n",
    "    #Don't include Revenue in Dataframe. We are using it to create Revenue Growth over the last two years.\n",
    "    #\n",
    "    Earnings_Most_Recent_Annual_Statement = response.xpath('//*[@id=\"nimbus-app\"]/section/section/section/article/article/section/div/div[1]/div[2]/div[11]/div[3]/text()').extract_first()\n",
    "    Earnings_Most_Recent_Annual_Statement = convert_values(Earnings_Most_Recent_Annual_Statement)\n",
    "    #\n",
    "    Earnings_One_Annual_Statement_Ago = response.xpath('//*[@id=\"nimbus-app\"]/section/section/section/article/article/section/div/div[1]/div[2]/div[11]/div[4]/text()').extract_first()\n",
    "    Earnings_One_Annual_Statement_Ago = convert_values(Earnings_One_Annual_Statement_Ago)\n",
    "    #\n",
    "    Earnings_Two_Annual_Statements_Ago = response.xpath('//*[@id=\"nimbus-app\"]/section/section/section/article/article/section/div/div[1]/div[2]/div[11]/div[5]/text()').extract_first()\n",
    "    Earnings_Two_Annual_Statements_Ago = convert_values(Earnings_Two_Annual_Statements_Ago)\n",
    "#\n",
    "    Earnings_Growth_Last_Year_Percent = ((Earnings_Most_Recent_Annual_Statement - Earnings_One_Annual_Statement_Ago) / Earnings_One_Annual_Statement_Ago)*100\n",
    "    Earnings_Growth_One_Year_Ago_Percent = ((Earnings_One_Annual_Statement_Ago - Earnings_Two_Annual_Statements_Ago) / Earnings_Two_Annual_Statements_Ago)*100\n",
    "#\n",
    "    #                                                                  analysis\n",
    "    html = requests.get(f'https://finance.yahoo.com/quote/{Ticker}/analysis/', headers=headers).text\n",
    "    response = Selector(text=html)\n",
    "    Earnings_Surprise_Most_Recent_Quarter_Percent = response.xpath('//*[@id=\"nimbus-app\"]/section/section/section/article/section[4]/div/table/tbody/tr[4]/td[5]/text()').extract_first()\n",
    "    Earnings_Surprise_Most_Recent_Quarter_Percent = convert_values(Earnings_Surprise_Most_Recent_Quarter_Percent)\n",
    "    #\n",
    "    Earnings_Surprise_One_Quarter_Ago_Percent = response.xpath('//*[@id=\"nimbus-app\"]/section/section/section/article/section[4]/div/table/tbody/tr[4]/td[4]/text()').extract_first()\n",
    "    Earnings_Surprise_One_Quarter_Ago_Percent = convert_values(Earnings_Surprise_One_Quarter_Ago_Percent)\n",
    "    #                                                                 balance-sheet\n",
    "    html = requests.get(f'https://finance.yahoo.com/quote/{Ticker}/balance-sheet/', headers=headers).text\n",
    "    response = Selector(text=html)\n",
    "    #Don't include Shareholders equity\n",
    "    Shareholders_Equity_Most_Recent_Annual_Statement = response.xpath('//*[@id=\"nimbus-app\"]/section/section/section/article/article/section/div/div[1]/div[2]/div[3]/div[2]/text()').extract_first()\n",
    "    Shareholders_Equity_Most_Recent_Annual_Statement = convert_values(Shareholders_Equity_Most_Recent_Annual_Statement)\n",
    "    #\n",
    "    Shareholders_Equity_One_Annual_Statement_Ago = response.xpath('//*[@id=\"nimbus-app\"]/section/section/section/article/article/section/div/div[1]/div[2]/div[3]/div[3]/text()').extract_first()\n",
    "    Shareholders_Equity_One_Annual_Statement_Ago = convert_values(Shareholders_Equity_One_Annual_Statement_Ago)\n",
    "    #\n",
    "    Shareholders_Equity_Two_Annual_Statements_Ago = response.xpath('//*[@id=\"nimbus-app\"]/section/section/section/article/article/section/div/div[1]/div[2]/div[3]/div[4]/text()').extract_first()\n",
    "    Shareholders_Equity_Two_Annual_Statements_Ago = convert_values(Shareholders_Equity_Two_Annual_Statements_Ago)\n",
    "    #\n",
    "    Shareholders_Equity_Three_Annual_Statements_Ago = response.xpath('//*[@id=\"nimbus-app\"]/section/section/section/article/article/section/div/div[1]/div[2]/div[3]/div[5]/text()').extract_first()\n",
    "    Shareholders_Equity_Three_Annual_Statements_Ago = convert_values(Shareholders_Equity_Three_Annual_Statements_Ago)\n",
    "#Return on Equity (ROE) = Net Income ÷ Average Shareholders’ Equity\n",
    "#Average Shareholders’ Equity = ( Last Statement - Previous Statement ) / 2\n",
    "#\n",
    "    Return_on_Equity_Most_Recent_Year = Earnings_Most_Recent_Annual_Statement / ((Shareholders_Equity_Most_Recent_Annual_Statement + Shareholders_Equity_One_Annual_Statement_Ago)/2)\n",
    "    Return_on_Equity_One_Year_Ago = Earnings_One_Annual_Statement_Ago / ((Shareholders_Equity_One_Annual_Statement_Ago + Shareholders_Equity_Two_Annual_Statements_Ago)/2)\n",
    "    Return_on_Equity_Two_Years_Ago = Earnings_Two_Annual_Statements_Ago / ((Shareholders_Equity_Two_Annual_Statements_Ago + Shareholders_Equity_Three_Annual_Statements_Ago)/2)\n",
    "#\n",
    "    #\n",
    "    return Market_Cap, _3_Month_Trading_Volume, PEG_Ratio, Current_Ratio, Trailing_P_E_Ratio, Operating_Margin, Revenue_Most_Recent_Annual_Statement,\\\n",
    "Revenue_One_Annual_Statement_Ago, Revenue_Two_Annual_Statements_Ago, Earnings_Most_Recent_Annual_Statement, Earnings_One_Annual_Statement_Ago,\\\n",
    "Earnings_Two_Annual_Statements_Ago, Earnings_Surprise_Most_Recent_Quarter_Percent, Earnings_Surprise_One_Quarter_Ago_Percent, \\\n",
    "Shareholders_Equity_Most_Recent_Annual_Statement, Shareholders_Equity_One_Annual_Statement_Ago, Shareholders_Equity_Two_Annual_Statements_Ago,\\\n",
    "Shareholders_Equity_Three_Annual_Statements_Ago, Revenue_Growth_Last_Year_Percent, Revenue_Growth_One_Year_Ago_Percent,\\\n",
    "Earnings_Growth_Last_Year_Percent, Earnings_Growth_One_Year_Ago_Percent, Return_on_Equity_Most_Recent_Year, Return_on_Equity_One_Year_Ago, \\\n",
    "Return_on_Equity_Two_Years_Ago\n",
    "\n",
    "# Initalize a new pandas DataFrame\n",
    "df = pd.DataFrame(columns = ['Ticker','Market_Cap','_3_Month_Trading_Volume','PEG_Ratio','Current_Ratio','Trailing_P_E_Ratio','Operating_Margin',\n",
    "                             'Revenue_Most_Recent_Annual_Statement','Revenue_One_Annual_Statement_Ago','Revenue_Two_Annual_Statements_Ago',\n",
    "                             'Earnings_Most_Recent_Annual_Statement','Earnings_One_Annual_Statement_Ago','Earnings_Two_Annual_Statements_Ago',\n",
    "                             'Earnings_Surprise_Most_Recent_Quarter_Percent','Earnings_Surprise_One_Quarter_Ago_Percent',\n",
    "                             'Shareholders_Equity_Most_Recent_Annual_Statement','Shareholders_Equity_One_Annual_Statement_Ago',\n",
    "                             'Shareholders_Equity_Two_Annual_Statements_Ago','Shareholders_Equity_Three_Annual_Statements_Ago',\n",
    "                             'Revenue_Growth_Last_Year_Percent', 'Revenue_Growth_One_Year_Ago_Percent', 'Earnings_Growth_Last_Year_Percent', \n",
    "                            'Earnings_Growth_One_Year_Ago_Percent','Return_on_Equity_Most_Recent_Year','Return_on_Equity_One_Year_Ago', \n",
    "                            'Return_on_Equity_Two_Years_Ago'])\n",
    "\n",
    "# Iterate through list of tickers and save values to our df DataFrame\n",
    "for Ticker in tickers:\n",
    "    Market_Cap, _3_Month_Trading_Volume, PEG_Ratio, Current_Ratio, Trailing_P_E_Ratio, Operating_Margin, Revenue_Most_Recent_Annual_Statement,\\\n",
    "    Revenue_One_Annual_Statement_Ago, Revenue_Two_Annual_Statements_Ago, Earnings_Most_Recent_Annual_Statement, Earnings_One_Annual_Statement_Ago,\\\n",
    "    Earnings_Two_Annual_Statements_Ago, Earnings_Surprise_Most_Recent_Quarter_Percent, Earnings_Surprise_One_Quarter_Ago_Percent, \\\n",
    "    Shareholders_Equity_Most_Recent_Annual_Statement, Shareholders_Equity_One_Annual_Statement_Ago, Shareholders_Equity_Two_Annual_Statements_Ago,\\\n",
    "    Shareholders_Equity_Three_Annual_Statements_Ago, Revenue_Growth_Last_Year_Percent, Revenue_Growth_One_Year_Ago_Percent, \\\n",
    "    Earnings_Growth_Last_Year_Percent, Earnings_Growth_One_Year_Ago_Percent, Return_on_Equity_Most_Recent_Year, Return_on_Equity_One_Year_Ago, \\\n",
    "    Return_on_Equity_Two_Years_Ago = get_data(Ticker)\n",
    "    \n",
    "    df = pd.concat([df, pd.DataFrame({'Ticker':[Ticker], 'Market_Cap':[Market_Cap], '_3_Month_Trading_Volume':[_3_Month_Trading_Volume],\n",
    "                                      'PEG_Ratio':[PEG_Ratio], 'Current_Ratio':[Current_Ratio], 'Trailing_P_E_Ratio':[Trailing_P_E_Ratio],\n",
    "                                      'Operating_Margin':[Operating_Margin],'Revenue_Most_Recent_Annual_Statement':[Revenue_Most_Recent_Annual_Statement], \n",
    "                                      'Revenue_One_Annual_Statement_Ago':[Revenue_One_Annual_Statement_Ago], 'Revenue_Two_Annual_Statements_Ago':[Revenue_Two_Annual_Statements_Ago], \n",
    "                                      'Earnings_Most_Recent_Annual_Statement':[Earnings_Most_Recent_Annual_Statement], 'Earnings_One_Annual_Statement_Ago':[Earnings_One_Annual_Statement_Ago], \n",
    "                                      'Earnings_Two_Annual_Statements_Ago':[Earnings_Two_Annual_Statements_Ago], 'Earnings_Surprise_Most_Recent_Quarter_Percent':[Earnings_Surprise_Most_Recent_Quarter_Percent], \n",
    "                                      'Earnings_Surprise_One_Quarter_Ago_Percent':[Earnings_Surprise_One_Quarter_Ago_Percent], 'Shareholders_Equity_Most_Recent_Annual_Statement':[Shareholders_Equity_Most_Recent_Annual_Statement], \n",
    "                                      'Shareholders_Equity_One_Annual_Statement_Ago':[Shareholders_Equity_One_Annual_Statement_Ago], 'Shareholders_Equity_Two_Annual_Statements_Ago':[Shareholders_Equity_Two_Annual_Statements_Ago], \n",
    "                                      'Shareholders_Equity_Three_Annual_Statements_Ago':[Shareholders_Equity_Three_Annual_Statements_Ago],\n",
    "                                      'Revenue_Growth_Last_Year_Percent':[Revenue_Growth_Last_Year_Percent], \n",
    "                                      'Revenue_Growth_One_Year_Ago_Percent':[Revenue_Growth_One_Year_Ago_Percent],\n",
    "                                      'Earnings_Growth_Last_Year_Percent':[Earnings_Growth_Last_Year_Percent], \n",
    "                                      'Earnings_Growth_One_Year_Ago_Percent':[Earnings_Growth_One_Year_Ago_Percent],\n",
    "                                      'Return_on_Equity_Most_Recent_Year':[Return_on_Equity_Most_Recent_Year],\n",
    "                                      'Return_on_Equity_One_Year_Ago':[Return_on_Equity_One_Year_Ago], \n",
    "                                      'Return_on_Equity_Two_Years_Ago':[Return_on_Equity_Two_Years_Ago]})], ignore_index=True)\n",
    "\n",
    "# Print the df DataFrame\n",
    "df.head()\"\"\"\n",
    "print('For Reference')"
   ]
  },
  {
   "cell_type": "code",
   "execution_count": 121,
   "id": "e1bab84f-caf3-4492-aba0-e9d00cfb9fae",
   "metadata": {},
   "outputs": [
    {
     "name": "stdout",
     "output_type": "stream",
     "text": [
      "For Reference\n"
     ]
    }
   ],
   "source": [
    "\"\"\"#Dataframe with math done in the function\n",
    "\n",
    "tickers = ['AMZN','MCD']\n",
    "\n",
    "def get_data(Ticker):\n",
    "    headers = {'User-Agent': 'Mozilla/5.0 (Windows NT 10.0; Win64; x64) AppleWebKit/537.36 (KHTML, like Gecko) Chrome/71.0.3578.98 Safari/537.36' } \n",
    "    #                                                                 profile\n",
    "    html = requests.get(f'https://finance.yahoo.com/quote/{Ticker}/profile/', headers=headers).text\n",
    "    response = Selector(text=html)\n",
    "    Sector = response.xpath('//*[@id=\"nimbus-app\"]/section/section/section/article/section[2]/section[2]/div/dl/div[1]/dd/a/text()').extract_first()\n",
    "    #\n",
    "    html = requests.get(f'https://finance.yahoo.com/quote/{Ticker}/profile/', headers=headers).text\n",
    "    response = Selector(text=html)\n",
    "    Industry = response.xpath('//*[@id=\"nimbus-app\"]/section/section/section/article/section[2]/section[2]/div/dl/div[2]/a/text()').extract_first()\n",
    "    #                                                                 key-statistics\n",
    "    html = requests.get(f'https://finance.yahoo.com/quote/{Ticker}/key-statistics/', headers=headers).text\n",
    "    response = Selector(text=html)\n",
    "    Market_Cap = response.xpath('//*[@id=\"nimbus-app\"]/section/section/section/article/section[2]/div[2]/table[1]/tbody/tr[1]/td[2]/text()').extract_first()\n",
    "    Market_Cap = convert_values(Market_Cap)\n",
    "    #\n",
    "    _3_Month_Trading_Volume = response.xpath('//*[@id=\"nimbus-app\"]/section/section/section/article/article/div/section[2]/div/section[2]/table/tbody/tr[1]/td[2]/text()').extract_first()\n",
    "    _3_Month_Trading_Volume = convert_values(_3_Month_Trading_Volume)\n",
    "    #\n",
    "    PEG_Ratio = response.xpath('//*[@id=\"nimbus-app\"]/section/section/section/article/section[2]/div[2]/table[1]/tbody/tr[5]/td[2]/text()').extract_first()\n",
    "    PEG_Ratio = convert_values(PEG_Ratio)\n",
    "    #\n",
    "    Current_Ratio = response.xpath('//*[@id=\"nimbus-app\"]/section/section/section/article/article/div/section[1]/div/section[5]/table/tbody/tr[5]/td[2]/text()').extract_first()\n",
    "    Current_Ratio = convert_values(Current_Ratio)\n",
    "    #\n",
    "    Trailing_P_E_Ratio = response.xpath('//*[@id=\"nimbus-app\"]/section/section/section/article/section[2]/div[2]/table[1]/tbody/tr[3]/td[2]/text()').extract_first()\n",
    "    Trailing_P_E_Ratio = convert_values(Trailing_P_E_Ratio)\n",
    "    #\n",
    "    Operating_Margin = response.xpath('//*[@id=\"nimbus-app\"]/section/section/section/article/article/div/section[1]/div/section[2]/table/tbody/tr[2]/td[2]/text()').extract_first()\n",
    "    Operating_Margin = convert_values(Operating_Margin)\n",
    "    #                                                                 financials\n",
    "    html = requests.get(f'https://finance.yahoo.com/quote/{Ticker}/financials/', headers=headers).text\n",
    "    response = Selector(text=html)\n",
    "    #Don't include Revenue in Dataframe. We are using it to create Revenue Growth over the last two years.\n",
    "    Revenue_Most_Recent_Annual_Statement = response.xpath('//*[@id=\"nimbus-app\"]/section/section/section/article/article/section/div/div[1]/div[2]/div[1]/div[3]/text()').extract_first()\n",
    "    Revenue_Most_Recent_Annual_Statement = convert_values(Revenue_Most_Recent_Annual_Statement)\n",
    "    #\n",
    "    Revenue_One_Annual_Statement_Ago = response.xpath('//*[@id=\"nimbus-app\"]/section/section/section/article/article/section/div/div[1]/div[2]/div[1]/div[4]/text()').extract_first()\n",
    "    Revenue_One_Annual_Statement_Ago = convert_values(Revenue_One_Annual_Statement_Ago)\n",
    "    #\n",
    "    Revenue_Two_Annual_Statements_Ago = response.xpath('//*[@id=\"nimbus-app\"]/section/section/section/article/article/section/div/div[1]/div[2]/div[1]/div[5]/text()').extract_first()\n",
    "    Revenue_Two_Annual_Statements_Ago = convert_values(Revenue_Two_Annual_Statements_Ago)\n",
    "#\n",
    "    Revenue_Growth_Last_Year_Percent = ((Revenue_Most_Recent_Annual_Statement - Revenue_One_Annual_Statement_Ago) / Revenue_One_Annual_Statement_Ago)*100\n",
    "    Revenue_Growth_One_Year_Ago_Percent = ((Revenue_One_Annual_Statement_Ago - Revenue_Two_Annual_Statements_Ago) / Revenue_Two_Annual_Statements_Ago)*100\n",
    "#\n",
    "    #Don't include Earnings in Dataframe. We are using it to create Revenue Growth over the last two years.\n",
    "    #\n",
    "    Earnings_Most_Recent_Annual_Statement = response.xpath('//*[@id=\"nimbus-app\"]/section/section/section/article/article/section/div/div[1]/div[2]/div[11]/div[3]/text()').extract_first()\n",
    "    Earnings_Most_Recent_Annual_Statement = convert_values(Earnings_Most_Recent_Annual_Statement)\n",
    "    #\n",
    "    Earnings_One_Annual_Statement_Ago = response.xpath('//*[@id=\"nimbus-app\"]/section/section/section/article/article/section/div/div[1]/div[2]/div[11]/div[4]/text()').extract_first()\n",
    "    Earnings_One_Annual_Statement_Ago = convert_values(Earnings_One_Annual_Statement_Ago)\n",
    "    #\n",
    "    Earnings_Two_Annual_Statements_Ago = response.xpath('//*[@id=\"nimbus-app\"]/section/section/section/article/article/section/div/div[1]/div[2]/div[11]/div[5]/text()').extract_first()\n",
    "    Earnings_Two_Annual_Statements_Ago = convert_values(Earnings_Two_Annual_Statements_Ago)\n",
    "#\n",
    "    Earnings_Growth_Last_Year_Percent = ((Earnings_Most_Recent_Annual_Statement - Earnings_One_Annual_Statement_Ago) / Earnings_One_Annual_Statement_Ago)*100\n",
    "    Earnings_Growth_One_Year_Ago_Percent = ((Earnings_One_Annual_Statement_Ago - Earnings_Two_Annual_Statements_Ago) / Earnings_Two_Annual_Statements_Ago)*100\n",
    "#\n",
    "    #                                                                  analysis\n",
    "    html = requests.get(f'https://finance.yahoo.com/quote/{Ticker}/analysis/', headers=headers).text\n",
    "    response = Selector(text=html)\n",
    "    Earnings_Surprise_Most_Recent_Quarter_Percent = response.xpath('//*[@id=\"nimbus-app\"]/section/section/section/article/section[4]/div/table/tbody/tr[4]/td[5]/text()').extract_first()\n",
    "    Earnings_Surprise_Most_Recent_Quarter_Percent = convert_values(Earnings_Surprise_Most_Recent_Quarter_Percent)\n",
    "    #\n",
    "    Earnings_Surprise_One_Quarter_Ago_Percent = response.xpath('//*[@id=\"nimbus-app\"]/section/section/section/article/section[4]/div/table/tbody/tr[4]/td[4]/text()').extract_first()\n",
    "    Earnings_Surprise_One_Quarter_Ago_Percent = convert_values(Earnings_Surprise_One_Quarter_Ago_Percent)\n",
    "    #                                                                 balance-sheet\n",
    "    html = requests.get(f'https://finance.yahoo.com/quote/{Ticker}/balance-sheet/', headers=headers).text\n",
    "    response = Selector(text=html)\n",
    "    #Don't include Shareholders equity\n",
    "    Shareholders_Equity_Most_Recent_Annual_Statement = response.xpath('//*[@id=\"nimbus-app\"]/section/section/section/article/article/section/div/div[1]/div[2]/div[3]/div[2]/text()').extract_first()\n",
    "    Shareholders_Equity_Most_Recent_Annual_Statement = convert_values(Shareholders_Equity_Most_Recent_Annual_Statement)\n",
    "    #\n",
    "    Shareholders_Equity_One_Annual_Statement_Ago = response.xpath('//*[@id=\"nimbus-app\"]/section/section/section/article/article/section/div/div[1]/div[2]/div[3]/div[3]/text()').extract_first()\n",
    "    Shareholders_Equity_One_Annual_Statement_Ago = convert_values(Shareholders_Equity_One_Annual_Statement_Ago)\n",
    "    #\n",
    "    Shareholders_Equity_Two_Annual_Statements_Ago = response.xpath('//*[@id=\"nimbus-app\"]/section/section/section/article/article/section/div/div[1]/div[2]/div[3]/div[4]/text()').extract_first()\n",
    "    Shareholders_Equity_Two_Annual_Statements_Ago = convert_values(Shareholders_Equity_Two_Annual_Statements_Ago)\n",
    "    #\n",
    "    Shareholders_Equity_Three_Annual_Statements_Ago = response.xpath('//*[@id=\"nimbus-app\"]/section/section/section/article/article/section/div/div[1]/div[2]/div[3]/div[5]/text()').extract_first()\n",
    "    Shareholders_Equity_Three_Annual_Statements_Ago = convert_values(Shareholders_Equity_Three_Annual_Statements_Ago)\n",
    "#Return on Equity (ROE) = Net Income ÷ Average Shareholders’ Equity\n",
    "#Average Shareholders’ Equity = ( Last Statement - Previous Statement ) / 2\n",
    "#\n",
    "    Return_on_Equity_Most_Recent_Year = Earnings_Most_Recent_Annual_Statement / ((Shareholders_Equity_Most_Recent_Annual_Statement + Shareholders_Equity_One_Annual_Statement_Ago)/2)\n",
    "    Return_on_Equity_One_Year_Ago = Earnings_One_Annual_Statement_Ago / ((Shareholders_Equity_One_Annual_Statement_Ago + Shareholders_Equity_Two_Annual_Statements_Ago)/2)\n",
    "    Return_on_Equity_Two_Years_Ago = Earnings_Two_Annual_Statements_Ago / ((Shareholders_Equity_Two_Annual_Statements_Ago + Shareholders_Equity_Three_Annual_Statements_Ago)/2)\n",
    "#\n",
    "    #\n",
    "    return Market_Cap, _3_Month_Trading_Volume, PEG_Ratio, Current_Ratio, Trailing_P_E_Ratio, Operating_Margin, \\\n",
    "Earnings_Surprise_Most_Recent_Quarter_Percent, Earnings_Surprise_One_Quarter_Ago_Percent, \\\n",
    "Revenue_Growth_Last_Year_Percent, Revenue_Growth_One_Year_Ago_Percent,\\\n",
    "Earnings_Growth_Last_Year_Percent, Earnings_Growth_One_Year_Ago_Percent, Return_on_Equity_Most_Recent_Year, Return_on_Equity_One_Year_Ago, \\\n",
    "Return_on_Equity_Two_Years_Ago\n",
    "\n",
    "# Initalize a new pandas DataFrame\n",
    "df = pd.DataFrame(columns = ['Ticker','Market_Cap','_3_Month_Trading_Volume','PEG_Ratio','Current_Ratio','Trailing_P_E_Ratio','Operating_Margin',\n",
    "                             'Earnings_Surprise_Most_Recent_Quarter_Percent','Earnings_Surprise_One_Quarter_Ago_Percent',\n",
    "                             'Revenue_Growth_Last_Year_Percent', 'Revenue_Growth_One_Year_Ago_Percent', 'Earnings_Growth_Last_Year_Percent', \n",
    "                            'Earnings_Growth_One_Year_Ago_Percent','Return_on_Equity_Most_Recent_Year','Return_on_Equity_One_Year_Ago', \n",
    "                            'Return_on_Equity_Two_Years_Ago'])\n",
    "\n",
    "# Iterate through list of tickers and save values to our df DataFrame\n",
    "for Ticker in tickers:\n",
    "    Market_Cap, _3_Month_Trading_Volume, PEG_Ratio, Current_Ratio, Trailing_P_E_Ratio, Operating_Margin, \\\n",
    "    Earnings_Surprise_Most_Recent_Quarter_Percent, Earnings_Surprise_One_Quarter_Ago_Percent, \\\n",
    "    Revenue_Growth_Last_Year_Percent, Revenue_Growth_One_Year_Ago_Percent, \\\n",
    "    Earnings_Growth_Last_Year_Percent, Earnings_Growth_One_Year_Ago_Percent, Return_on_Equity_Most_Recent_Year, Return_on_Equity_One_Year_Ago, \\\n",
    "    Return_on_Equity_Two_Years_Ago = get_data(Ticker)\n",
    "    \n",
    "    df = pd.concat([df, pd.DataFrame({'Ticker':[Ticker], 'Market_Cap':[Market_Cap], '_3_Month_Trading_Volume':[_3_Month_Trading_Volume],\n",
    "                                      'PEG_Ratio':[PEG_Ratio], 'Current_Ratio':[Current_Ratio], 'Trailing_P_E_Ratio':[Trailing_P_E_Ratio],\n",
    "                                      'Operating_Margin':[Operating_Margin], \n",
    "                                      'Earnings_Surprise_Most_Recent_Quarter_Percent':[Earnings_Surprise_Most_Recent_Quarter_Percent], \n",
    "                                      'Earnings_Surprise_One_Quarter_Ago_Percent':[Earnings_Surprise_One_Quarter_Ago_Percent],\n",
    "                                      'Revenue_Growth_Last_Year_Percent':[Revenue_Growth_Last_Year_Percent], \n",
    "                                      'Revenue_Growth_One_Year_Ago_Percent':[Revenue_Growth_One_Year_Ago_Percent],\n",
    "                                      'Earnings_Growth_Last_Year_Percent':[Earnings_Growth_Last_Year_Percent], \n",
    "                                      'Earnings_Growth_One_Year_Ago_Percent':[Earnings_Growth_One_Year_Ago_Percent],\n",
    "                                      'Return_on_Equity_Most_Recent_Year':[Return_on_Equity_Most_Recent_Year],\n",
    "                                      'Return_on_Equity_One_Year_Ago':[Return_on_Equity_One_Year_Ago], \n",
    "                                      'Return_on_Equity_Two_Years_Ago':[Return_on_Equity_Two_Years_Ago]})], ignore_index=True)\n",
    "\n",
    "# Print the df DataFrame\n",
    "df.head()\"\"\"\n",
    "print('For Reference')"
   ]
  },
  {
   "cell_type": "code",
   "execution_count": 313,
   "id": "a9a2cf74-d481-4527-b8e3-e86e70c0ab5d",
   "metadata": {},
   "outputs": [
    {
     "name": "stdout",
     "output_type": "stream",
     "text": [
      "For Reference\n"
     ]
    }
   ],
   "source": [
    "'''#Dataframe with math done in the function\n",
    "\n",
    "tickers = ['AMZN','MCD']\n",
    "\n",
    "def get_data(Ticker):\n",
    "    headers = {'User-Agent': 'Mozilla/5.0 (Windows NT 10.0; Win64; x64) AppleWebKit/537.36 (KHTML, like Gecko) Chrome/71.0.3578.98 Safari/537.36' } \n",
    "    #                                                                 profile\n",
    "    html = requests.get(f'https://finance.yahoo.com/quote/{Ticker}/profile/', headers=headers).text\n",
    "    response = Selector(text=html)\n",
    "    Sector = response.xpath('//*[@id=\"nimbus-app\"]/section/section/section/article/section[2]/section[2]/div/dl/div[1]/dd/a/text()').extract_first()\n",
    "    #\n",
    "    html = requests.get(f'https://finance.yahoo.com/quote/{Ticker}/profile/', headers=headers).text\n",
    "    response = Selector(text=html)\n",
    "    Industry = response.xpath('//*[@id=\"nimbus-app\"]/section/section/section/article/section[2]/section[2]/div/dl/div[2]/a/text()').extract_first()\n",
    "    #                                                                 key-statistics\n",
    "    html = requests.get(f'https://finance.yahoo.com/quote/{Ticker}/key-statistics/', headers=headers).text\n",
    "    response = Selector(text=html)\n",
    "    Market_Cap = response.xpath('//*[@id=\"nimbus-app\"]/section/section/section/article/section[2]/div[2]/table[1]/tbody/tr[1]/td[2]/text()').extract_first()\n",
    "    Market_Cap = convert_values(Market_Cap)\n",
    "    #\n",
    "    _3_Month_Trading_Volume = response.xpath('//*[@id=\"nimbus-app\"]/section/section/section/article/article/div/section[2]/div/section[2]/table/tbody/tr[1]/td[2]/text()').extract_first()\n",
    "    _3_Month_Trading_Volume = convert_values(_3_Month_Trading_Volume)\n",
    "    #\n",
    "    PEG_Ratio = response.xpath('//*[@id=\"nimbus-app\"]/section/section/section/article/section[2]/div[2]/table[1]/tbody/tr[5]/td[2]/text()').extract_first()\n",
    "    PEG_Ratio = convert_values(PEG_Ratio)\n",
    "    #\n",
    "    Current_Ratio = response.xpath('//*[@id=\"nimbus-app\"]/section/section/section/article/article/div/section[1]/div/section[5]/table/tbody/tr[5]/td[2]/text()').extract_first()\n",
    "    Current_Ratio = convert_values(Current_Ratio)\n",
    "    #\n",
    "    Trailing_P_E_Ratio = response.xpath('//*[@id=\"nimbus-app\"]/section/section/section/article/section[2]/div[2]/table[1]/tbody/tr[3]/td[2]/text()').extract_first()\n",
    "    Trailing_P_E_Ratio = convert_values(Trailing_P_E_Ratio)\n",
    "    #\n",
    "    Operating_Margin = response.xpath('//*[@id=\"nimbus-app\"]/section/section/section/article/article/div/section[1]/div/section[2]/table/tbody/tr[2]/td[2]/text()').extract_first()\n",
    "    Operating_Margin = convert_values(Operating_Margin)\n",
    "    #                                                                 financials\n",
    "    html = requests.get(f'https://finance.yahoo.com/quote/{Ticker}/financials/', headers=headers).text\n",
    "    response = Selector(text=html)\n",
    "    #Don't include Revenue in Dataframe. We are using it to create Revenue Growth over the last two years.\n",
    "    Revenue_Most_Recent_Annual_Statement = response.xpath('//*[@id=\"nimbus-app\"]/section/section/section/article/article/section/div/div[1]/div[2]/div[1]/div[3]/text()').extract_first()\n",
    "    Revenue_Most_Recent_Annual_Statement = convert_values(Revenue_Most_Recent_Annual_Statement)\n",
    "    #\n",
    "    Revenue_One_Annual_Statement_Ago = response.xpath('//*[@id=\"nimbus-app\"]/section/section/section/article/article/section/div/div[1]/div[2]/div[1]/div[4]/text()').extract_first()\n",
    "    Revenue_One_Annual_Statement_Ago = convert_values(Revenue_One_Annual_Statement_Ago)\n",
    "    #\n",
    "    Revenue_Two_Annual_Statements_Ago = response.xpath('//*[@id=\"nimbus-app\"]/section/section/section/article/article/section/div/div[1]/div[2]/div[1]/div[5]/text()').extract_first()\n",
    "    Revenue_Two_Annual_Statements_Ago = convert_values(Revenue_Two_Annual_Statements_Ago)\n",
    "#\n",
    "    Revenue_Growth_Last_Year_Percent = ((Revenue_Most_Recent_Annual_Statement - Revenue_One_Annual_Statement_Ago) / Revenue_One_Annual_Statement_Ago)*100\n",
    "    Revenue_Growth_One_Year_Ago_Percent = ((Revenue_One_Annual_Statement_Ago - Revenue_Two_Annual_Statements_Ago) / Revenue_Two_Annual_Statements_Ago)*100\n",
    "#\n",
    "    #Don't include Earnings in Dataframe. We are using it to create Revenue Growth over the last two years.\n",
    "    #\n",
    "    Earnings_Most_Recent_Annual_Statement = response.xpath('//*[@id=\"nimbus-app\"]/section/section/section/article/article/section/div/div[1]/div[2]/div[11]/div[3]/text()').extract_first()\n",
    "    Earnings_Most_Recent_Annual_Statement = convert_values(Earnings_Most_Recent_Annual_Statement)\n",
    "    #\n",
    "    Earnings_One_Annual_Statement_Ago = response.xpath('//*[@id=\"nimbus-app\"]/section/section/section/article/article/section/div/div[1]/div[2]/div[11]/div[4]/text()').extract_first()\n",
    "    Earnings_One_Annual_Statement_Ago = convert_values(Earnings_One_Annual_Statement_Ago)\n",
    "    #\n",
    "    Earnings_Two_Annual_Statements_Ago = response.xpath('//*[@id=\"nimbus-app\"]/section/section/section/article/article/section/div/div[1]/div[2]/div[11]/div[5]/text()').extract_first()\n",
    "    Earnings_Two_Annual_Statements_Ago = convert_values(Earnings_Two_Annual_Statements_Ago)\n",
    "#\n",
    "    Earnings_Growth_Last_Year_Percent = ((Earnings_Most_Recent_Annual_Statement - Earnings_One_Annual_Statement_Ago) / Earnings_One_Annual_Statement_Ago)*100\n",
    "    Earnings_Growth_One_Year_Ago_Percent = ((Earnings_One_Annual_Statement_Ago - Earnings_Two_Annual_Statements_Ago) / Earnings_Two_Annual_Statements_Ago)*100\n",
    "#\n",
    "    #                                                                  analysis\n",
    "    html = requests.get(f'https://finance.yahoo.com/quote/{Ticker}/analysis/', headers=headers).text\n",
    "    response = Selector(text=html)\n",
    "    Earnings_Surprise_Most_Recent_Quarter_Percent = response.xpath('//*[@id=\"nimbus-app\"]/section/section/section/article/section[4]/div/table/tbody/tr[4]/td[5]/text()').extract_first()\n",
    "    Earnings_Surprise_Most_Recent_Quarter_Percent = convert_values(Earnings_Surprise_Most_Recent_Quarter_Percent)\n",
    "    #\n",
    "    Earnings_Surprise_One_Quarter_Ago_Percent = response.xpath('//*[@id=\"nimbus-app\"]/section/section/section/article/section[4]/div/table/tbody/tr[4]/td[4]/text()').extract_first()\n",
    "    Earnings_Surprise_One_Quarter_Ago_Percent = convert_values(Earnings_Surprise_One_Quarter_Ago_Percent)\n",
    "    #                                                                 balance-sheet\n",
    "    html = requests.get(f'https://finance.yahoo.com/quote/{Ticker}/balance-sheet/', headers=headers).text\n",
    "    response = Selector(text=html)\n",
    "    #Don't include Shareholders equity\n",
    "    Shareholders_Equity_Most_Recent_Annual_Statement = response.xpath('//*[@id=\"nimbus-app\"]/section/section/section/article/article/section/div/div[1]/div[2]/div[3]/div[2]/text()').extract_first()\n",
    "    Shareholders_Equity_Most_Recent_Annual_Statement = convert_values(Shareholders_Equity_Most_Recent_Annual_Statement)\n",
    "    #\n",
    "    Shareholders_Equity_One_Annual_Statement_Ago = response.xpath('//*[@id=\"nimbus-app\"]/section/section/section/article/article/section/div/div[1]/div[2]/div[3]/div[3]/text()').extract_first()\n",
    "    Shareholders_Equity_One_Annual_Statement_Ago = convert_values(Shareholders_Equity_One_Annual_Statement_Ago)\n",
    "    #\n",
    "    Shareholders_Equity_Two_Annual_Statements_Ago = response.xpath('//*[@id=\"nimbus-app\"]/section/section/section/article/article/section/div/div[1]/div[2]/div[3]/div[4]/text()').extract_first()\n",
    "    Shareholders_Equity_Two_Annual_Statements_Ago = convert_values(Shareholders_Equity_Two_Annual_Statements_Ago)\n",
    "    #\n",
    "    Shareholders_Equity_Three_Annual_Statements_Ago = response.xpath('//*[@id=\"nimbus-app\"]/section/section/section/article/article/section/div/div[1]/div[2]/div[3]/div[5]/text()').extract_first()\n",
    "    Shareholders_Equity_Three_Annual_Statements_Ago = convert_values(Shareholders_Equity_Three_Annual_Statements_Ago)\n",
    "#Return on Equity (ROE) = Net Income ÷ Average Shareholders’ Equity\n",
    "#Average Shareholders’ Equity = ( Last Statement - Previous Statement ) / 2\n",
    "#\n",
    "    Return_on_Equity_Most_Recent_Year = Earnings_Most_Recent_Annual_Statement / ((Shareholders_Equity_Most_Recent_Annual_Statement + Shareholders_Equity_One_Annual_Statement_Ago)/2)\n",
    "    Return_on_Equity_One_Year_Ago = Earnings_One_Annual_Statement_Ago / ((Shareholders_Equity_One_Annual_Statement_Ago + Shareholders_Equity_Two_Annual_Statements_Ago)/2)\n",
    "    Return_on_Equity_Two_Years_Ago = Earnings_Two_Annual_Statements_Ago / ((Shareholders_Equity_Two_Annual_Statements_Ago + Shareholders_Equity_Three_Annual_Statements_Ago)/2)\n",
    "#\n",
    "    #\n",
    "    return Market_Cap, _3_Month_Trading_Volume, PEG_Ratio, Current_Ratio, Trailing_P_E_Ratio, Operating_Margin, \\\n",
    "Earnings_Surprise_Most_Recent_Quarter_Percent, Earnings_Surprise_One_Quarter_Ago_Percent, \\\n",
    "Revenue_Growth_Last_Year_Percent, Revenue_Growth_One_Year_Ago_Percent,\\\n",
    "Earnings_Growth_Last_Year_Percent, Earnings_Growth_One_Year_Ago_Percent, Return_on_Equity_Most_Recent_Year, Return_on_Equity_One_Year_Ago, \\\n",
    "Return_on_Equity_Two_Years_Ago, Sector, Industry\n",
    "\n",
    "# Initalize a new pandas DataFrame\n",
    "df = pd.DataFrame(columns = ['Ticker','Market_Cap','_3_Month_Trading_Volume','PEG_Ratio','Current_Ratio','Trailing_P_E_Ratio','Operating_Margin',\n",
    "                             'Earnings_Surprise_Most_Recent_Quarter_Percent','Earnings_Surprise_One_Quarter_Ago_Percent',\n",
    "                             'Revenue_Growth_Last_Year_Percent', 'Revenue_Growth_One_Year_Ago_Percent', 'Earnings_Growth_Last_Year_Percent', \n",
    "                            'Earnings_Growth_One_Year_Ago_Percent','Return_on_Equity_Most_Recent_Year','Return_on_Equity_One_Year_Ago', \n",
    "                            'Return_on_Equity_Two_Years_Ago','Sector','Industry'])\n",
    "\n",
    "# Iterate through list of tickers and save values to our df DataFrame\n",
    "for Ticker in tickers:\n",
    "    Market_Cap, _3_Month_Trading_Volume, PEG_Ratio, Current_Ratio, Trailing_P_E_Ratio, Operating_Margin, \\\n",
    "    Earnings_Surprise_Most_Recent_Quarter_Percent, Earnings_Surprise_One_Quarter_Ago_Percent, \\\n",
    "    Revenue_Growth_Last_Year_Percent, Revenue_Growth_One_Year_Ago_Percent, \\\n",
    "    Earnings_Growth_Last_Year_Percent, Earnings_Growth_One_Year_Ago_Percent, Return_on_Equity_Most_Recent_Year, Return_on_Equity_One_Year_Ago, \\\n",
    "    Return_on_Equity_Two_Years_Ago, Sector, Industry = get_data(Ticker)\n",
    "    \n",
    "    df = pd.concat([df, pd.DataFrame({'Ticker':[Ticker], 'Market_Cap':[Market_Cap], '_3_Month_Trading_Volume':[_3_Month_Trading_Volume],\n",
    "                                      'PEG_Ratio':[PEG_Ratio], 'Current_Ratio':[Current_Ratio], 'Trailing_P_E_Ratio':[Trailing_P_E_Ratio],\n",
    "                                      'Operating_Margin':[Operating_Margin], \n",
    "                                      'Earnings_Surprise_Most_Recent_Quarter_Percent':[Earnings_Surprise_Most_Recent_Quarter_Percent], \n",
    "                                      'Earnings_Surprise_One_Quarter_Ago_Percent':[Earnings_Surprise_One_Quarter_Ago_Percent],\n",
    "                                      'Revenue_Growth_Last_Year_Percent':[Revenue_Growth_Last_Year_Percent], \n",
    "                                      'Revenue_Growth_One_Year_Ago_Percent':[Revenue_Growth_One_Year_Ago_Percent],\n",
    "                                      'Earnings_Growth_Last_Year_Percent':[Earnings_Growth_Last_Year_Percent], \n",
    "                                      'Earnings_Growth_One_Year_Ago_Percent':[Earnings_Growth_One_Year_Ago_Percent],\n",
    "                                      'Return_on_Equity_Most_Recent_Year':[Return_on_Equity_Most_Recent_Year],\n",
    "                                      'Return_on_Equity_One_Year_Ago':[Return_on_Equity_One_Year_Ago], \n",
    "                                      'Return_on_Equity_Two_Years_Ago':[Return_on_Equity_Two_Years_Ago], 'Sector':[Sector], \n",
    "                                      'Industry':[Industry]})], ignore_index=True)\n",
    "\n",
    "# Print the df DataFrame\n",
    "df.head()'''\n",
    "print('For Reference')"
   ]
  },
  {
   "cell_type": "code",
   "execution_count": 91,
   "id": "6d9577db-da15-4ac1-a1c3-148156697daa",
   "metadata": {},
   "outputs": [
    {
     "name": "stdout",
     "output_type": "stream",
     "text": [
      "For Reference\n"
     ]
    }
   ],
   "source": [
    "\"\"\"tickers = ['AMZN','MCD']\n",
    "\n",
    "def get_data(Ticker):\n",
    "    headers = {'User-Agent': 'Mozilla/5.0 (Windows NT 10.0; Win64; x64) AppleWebKit/537.36 (KHTML, like Gecko) Chrome/71.0.3578.98 Safari/537.36' } \n",
    "    #                                                                 key-statistics\n",
    "    html = requests.get(f'https://finance.yahoo.com/quote/{Ticker}/key-statistics/', headers=headers).text\n",
    "    response = Selector(text=html)\n",
    "    Market_Cap = response.xpath('//*[@id=\"nimbus-app\"]/section/section/section/article/section[2]/div[2]/table[1]/tbody/tr[1]/td[2]/text()').extract_first()\n",
    "    Market_Cap = convert_values(Market_Cap)\n",
    "    #\n",
    "    _3_Month_Trading_Volume = response.xpath('//*[@id=\"nimbus-app\"]/section/section/section/article/article/div/section[2]/div/section[2]/table/tbody/tr[1]/td[2]/text()').extract_first()\n",
    "    _3_Month_Trading_Volume = convert_values(_3_Month_Trading_Volume)\n",
    "    #\n",
    "    PEG_Ratio = response.xpath('//*[@id=\"nimbus-app\"]/section/section/section/article/section[2]/div[2]/table[1]/tbody/tr[5]/td[2]/text()').extract_first()\n",
    "    PEG_Ratio = convert_values(PEG_Ratio)\n",
    "#\n",
    "    Current_Ratio = response.xpath('//*[@id=\"nimbus-app\"]/section/section/section/article/article/div/section[1]/div/section[5]/table/tbody/tr[5]/td[2]/text()').extract_first()\n",
    "    Current_Ratio = convert_values(Current_Ratio)\n",
    "    #\n",
    "    Trailing_P_E_Ratio = response.xpath('//*[@id=\"nimbus-app\"]/section/section/section/article/section[2]/div[2]/table[1]/tbody/tr[3]/td[2]/text()').extract_first()\n",
    "    Trailing_P_E_Ratio = convert_values(Trailing_P_E_Ratio)\n",
    "    #\n",
    "    Operating_Margin = response.xpath('//*[@id=\"nimbus-app\"]/section/section/section/article/article/div/section[1]/div/section[2]/table/tbody/tr[2]/td[2]/text()').extract_first()\n",
    "    Operating_Margin = convert_values(Operating_Margin)\n",
    "    #                                                                 financials\n",
    "    html = requests.get(f'https://finance.yahoo.com/quote/{Ticker}/financials/', headers=headers).text\n",
    "    response = Selector(text=html)\n",
    "    Revenue_Most_Recent_Annual_Statement = response.xpath('//*[@id=\"nimbus-app\"]/section/section/section/article/article/section/div/div[1]/div[2]/div[1]/div[3]/text()').extract_first()\n",
    "    Revenue_Most_Recent_Annual_Statement = convert_values(Revenue_Most_Recent_Annual_Statement)\n",
    "    #\n",
    "    Revenue_One_Annual_Statement_Ago = response.xpath('//*[@id=\"nimbus-app\"]/section/section/section/article/article/section/div/div[1]/div[2]/div[1]/div[4]/text()').extract_first()\n",
    "    Revenue_One_Annual_Statement_Ago = convert_values(Revenue_One_Annual_Statement_Ago)\n",
    "    #\n",
    "    Revenue_Two_Annual_Statements_Ago = response.xpath('//*[@id=\"nimbus-app\"]/section/section/section/article/article/section/div/div[1]/div[2]/div[1]/div[5]/text()').extract_first()\n",
    "    Revenue_Two_Annual_Statements_Ago = convert_values(Revenue_Two_Annual_Statements_Ago)\n",
    "    #\n",
    "    Earnings_Most_Recent_Annual_Statement = response.xpath('//*[@id=\"nimbus-app\"]/section/section/section/article/article/section/div/div[1]/div[2]/div[11]/div[3]/text()').extract_first()\n",
    "    Earnings_Most_Recent_Annual_Statement = convert_values(Earnings_Most_Recent_Annual_Statement)\n",
    "    #\n",
    "    Earnings_One_Annual_Statement_Ago = response.xpath('//*[@id=\"nimbus-app\"]/section/section/section/article/article/section/div/div[1]/div[2]/div[11]/div[4]/text()').extract_first()\n",
    "    Earnings_One_Annual_Statement_Ago = convert_values(Earnings_One_Annual_Statement_Ago)\n",
    "    #\n",
    "    Earnings_Two_Annual_Statements_Ago = response.xpath('//*[@id=\"nimbus-app\"]/section/section/section/article/article/section/div/div[1]/div[2]/div[11]/div[5]/text()').extract_first()\n",
    "    Earnings_Two_Annual_Statements_Ago = convert_values(Earnings_Two_Annual_Statements_Ago)\n",
    "    #                                                                  analysis\n",
    "    html = requests.get(f'https://finance.yahoo.com/quote/{Ticker}/analysis/', headers=headers).text\n",
    "    response = Selector(text=html)\n",
    "    Earnings_Surprise_Most_Recent_Quarter_Percent = response.xpath('//*[@id=\"nimbus-app\"]/section/section/section/article/section[4]/div/table/tbody/tr[4]/td[5]/text()').extract_first()\n",
    "    Earnings_Surprise_Most_Recent_Quarter_Percent = convert_values(Earnings_Surprise_Most_Recent_Quarter_Percent)\n",
    "    #\n",
    "    Earnings_Surprise_One_Quarter_Ago_Percent = response.xpath('//*[@id=\"nimbus-app\"]/section/section/section/article/section[4]/div/table/tbody/tr[4]/td[4]/text()').extract_first()\n",
    "    Earnings_Surprise_One_Quarter_Ago_Percent = convert_values(Earnings_Surprise_One_Quarter_Ago_Percent)\n",
    "    #                                                                 balance-sheet\n",
    "    html = requests.get(f'https://finance.yahoo.com/quote/{Ticker}/balance-sheet/', headers=headers).text\n",
    "    response = Selector(text=html)\n",
    "    Shareholders_Equity_Most_Recent_Annual_Statement = response.xpath('//*[@id=\"nimbus-app\"]/section/section/section/article/article/section/div/div[1]/div[2]/div[3]/div[2]/text()').extract_first()\n",
    "    Shareholders_Equity_Most_Recent_Annual_Statement = convert_values(Shareholders_Equity_Most_Recent_Annual_Statement)\n",
    "    #\n",
    "    Shareholders_Equity_One_Annual_Statement_Ago = response.xpath('//*[@id=\"nimbus-app\"]/section/section/section/article/article/section/div/div[1]/div[2]/div[3]/div[3]/text()').extract_first()\n",
    "    Shareholders_Equity_One_Annual_Statement_Ago = convert_values(Shareholders_Equity_One_Annual_Statement_Ago)\n",
    "    #\n",
    "    Shareholders_Equity_Two_Annual_Statements_Ago = response.xpath('//*[@id=\"nimbus-app\"]/section/section/section/article/article/section/div/div[1]/div[2]/div[3]/div[4]/text()').extract_first()\n",
    "    Shareholders_Equity_Two_Annual_Statements_Ago = convert_values(Shareholders_Equity_Two_Annual_Statements_Ago)\n",
    "    #\n",
    "    Shareholders_Equity_Three_Annual_Statements_Ago = response.xpath('//*[@id=\"nimbus-app\"]/section/section/section/article/article/section/div/div[1]/div[2]/div[3]/div[5]/text()').extract_first()\n",
    "    Shareholders_Equity_Three_Annual_Statements_Ago = convert_values(Shareholders_Equity_Two_Annual_Statements_Ago)\n",
    "    #\n",
    "    return Market_Cap, _3_Month_Trading_Volume, PEG_Ratio, Current_Ratio, Trailing_P_E_Ratio, Operating_Margin, Revenue_Most_Recent_Annual_Statement,\\\n",
    "Revenue_One_Annual_Statement_Ago, Revenue_Two_Annual_Statements_Ago, Earnings_Most_Recent_Annual_Statement, Earnings_One_Annual_Statement_Ago,\\\n",
    "Earnings_Two_Annual_Statements_Ago, Earnings_Surprise_Most_Recent_Quarter_Percent, Earnings_Surprise_One_Quarter_Ago_Percent, \\\n",
    "Shareholders_Equity_Most_Recent_Annual_Statement, Shareholders_Equity_One_Annual_Statement_Ago, Shareholders_Equity_Two_Annual_Statements_Ago,\\\n",
    "Shareholders_Equity_Three_Annual_Statements_Ago\n",
    "\n",
    "# Initalize a new pandas DataFrame\n",
    "df = pd.DataFrame(columns = ['Ticker','Market_Cap','_3_Month_Trading_Volume','PEG_Ratio','Current_Ratio','Trailing_P_E_Ratio','Operating_Margin',\n",
    "                             'Revenue_Most_Recent_Annual_Statement','Revenue_One_Annual_Statement_Ago','Revenue_Two_Annual_Statements_Ago',\n",
    "                             'Earnings_Most_Recent_Annual_Statement','Earnings_One_Annual_Statement_Ago','Earnings_Two_Annual_Statements_Ago',\n",
    "                             'Earnings_Surprise_Most_Recent_Quarter_Percent','Earnings_Surprise_One_Quarter_Ago_Percent',\n",
    "                             'Shareholders_Equity_Most_Recent_Annual_Statement','Shareholders_Equity_One_Annual_Statement_Ago',\n",
    "                             'Shareholders_Equity_Two_Annual_Statements_Ago','Shareholders_Equity_Three_Annual_Statements_Ago'])\n",
    "\n",
    "# Iterate through list of tickers and save values to our df DataFrame\n",
    "for Ticker in tickers:\n",
    "    Market_Cap, _3_Month_Trading_Volume, PEG_Ratio, Current_Ratio, Trailing_P_E_Ratio, Operating_Margin, Revenue_Most_Recent_Annual_Statement,\\\n",
    "    Revenue_One_Annual_Statement_Ago, Revenue_Two_Annual_Statements_Ago, Earnings_Most_Recent_Annual_Statement, Earnings_One_Annual_Statement_Ago,\\\n",
    "    Earnings_Two_Annual_Statements_Ago, Earnings_Surprise_Most_Recent_Quarter_Percent, Earnings_Surprise_One_Quarter_Ago_Percent, \\\n",
    "    Shareholders_Equity_Most_Recent_Annual_Statement, Shareholders_Equity_One_Annual_Statement_Ago, Shareholders_Equity_Two_Annual_Statements_Ago,\\\n",
    "    Shareholders_Equity_Three_Annual_Statements_Ago = get_data(Ticker)\n",
    "    \n",
    "    df = pd.concat([df, pd.DataFrame({'Ticker':[Ticker], 'Market_Cap':[Market_Cap], '_3_Month_Trading_Volume':[_3_Month_Trading_Volume],\n",
    "                                      'PEG_Ratio':[PEG_Ratio], 'Current_Ratio':[Current_Ratio], 'Trailing_P_E_Ratio':[Trailing_P_E_Ratio],\n",
    "                                      'Operating_Margin':[Operating_Margin], 'Revenue_Most_Recent_Annual_Statement':[Revenue_Most_Recent_Annual_Statement], \n",
    "                                      'Revenue_One_Annual_Statement_Ago':[Revenue_One_Annual_Statement_Ago], 'Revenue_Two_Annual_Statements_Ago':[Revenue_Two_Annual_Statements_Ago], \n",
    "                                      'Earnings_Most_Recent_Annual_Statement':[Earnings_Most_Recent_Annual_Statement], 'Earnings_One_Annual_Statement_Ago':[Earnings_One_Annual_Statement_Ago], \n",
    "                                      'Earnings_Two_Annual_Statements_Ago':[Earnings_Two_Annual_Statements_Ago], 'Earnings_Surprise_Most_Recent_Quarter_Percent':[Earnings_Surprise_Most_Recent_Quarter_Percent], \n",
    "                                      'Earnings_Surprise_One_Quarter_Ago_Percent':[Earnings_Surprise_One_Quarter_Ago_Percent], 'Shareholders_Equity_Most_Recent_Annual_Statement':[Shareholders_Equity_Most_Recent_Annual_Statement], \n",
    "                                      'Shareholders_Equity_One_Annual_Statement_Ago':[Shareholders_Equity_One_Annual_Statement_Ago], 'Shareholders_Equity_Two_Annual_Statements_Ago':[Shareholders_Equity_Two_Annual_Statements_Ago], \n",
    "                                      'Shareholders_Equity_Three_Annual_Statements_Ago':[Shareholders_Equity_Three_Annual_Statements_Ago]})], ignore_index=True)\n",
    "\n",
    "# Print the df DataFrame\n",
    "df.head()\"\"\"\n",
    "print('For Reference')"
   ]
  },
  {
   "cell_type": "code",
   "execution_count": 335,
   "id": "f30ca459-ee54-4003-a793-4e4fdc625525",
   "metadata": {},
   "outputs": [
    {
     "name": "stdout",
     "output_type": "stream",
     "text": [
      "For Reference\n"
     ]
    }
   ],
   "source": [
    "'''#Dataframe with math done in the function and fixed Earnings Growth\n",
    "\n",
    "tickers = ['AMZN','MCD']\n",
    "\n",
    "def get_data(Ticker):\n",
    "    headers = {'User-Agent': 'Mozilla/5.0 (Windows NT 10.0; Win64; x64) AppleWebKit/537.36 (KHTML, like Gecko) Chrome/71.0.3578.98 Safari/537.36' } \n",
    "    #                                                                 profile\n",
    "    html = requests.get(f'https://finance.yahoo.com/quote/{Ticker}/profile/', headers=headers).text\n",
    "    response = Selector(text=html)\n",
    "    Sector = response.xpath('//*[@id=\"nimbus-app\"]/section/section/section/article/section[2]/section[2]/div/dl/div[1]/dd/a/text()').extract_first()\n",
    "    #\n",
    "    html = requests.get(f'https://finance.yahoo.com/quote/{Ticker}/profile/', headers=headers).text\n",
    "    response = Selector(text=html)\n",
    "    Industry = response.xpath('//*[@id=\"nimbus-app\"]/section/section/section/article/section[2]/section[2]/div/dl/div[2]/a/text()').extract_first()\n",
    "    #                                                                 key-statistics\n",
    "    html = requests.get(f'https://finance.yahoo.com/quote/{Ticker}/key-statistics/', headers=headers).text\n",
    "    response = Selector(text=html)\n",
    "    Market_Cap = response.xpath('//*[@id=\"nimbus-app\"]/section/section/section/article/section[2]/div[2]/table[1]/tbody/tr[1]/td[2]/text()').extract_first()\n",
    "    Market_Cap = convert_values(Market_Cap)\n",
    "    #\n",
    "    _3_Month_Trading_Volume = response.xpath('//*[@id=\"nimbus-app\"]/section/section/section/article/article/div/section[2]/div/section[2]/table/tbody/tr[1]/td[2]/text()').extract_first()\n",
    "    _3_Month_Trading_Volume = convert_values(_3_Month_Trading_Volume)\n",
    "    #\n",
    "    PEG_Ratio = response.xpath('//*[@id=\"nimbus-app\"]/section/section/section/article/section[2]/div[2]/table[1]/tbody/tr[5]/td[2]/text()').extract_first()\n",
    "    PEG_Ratio = convert_values(PEG_Ratio)\n",
    "    #\n",
    "    Current_Ratio = response.xpath('//*[@id=\"nimbus-app\"]/section/section/section/article/article/div/section[1]/div/section[5]/table/tbody/tr[5]/td[2]/text()').extract_first()\n",
    "    Current_Ratio = convert_values(Current_Ratio)\n",
    "    #\n",
    "    Trailing_P_E_Ratio = response.xpath('//*[@id=\"nimbus-app\"]/section/section/section/article/section[2]/div[2]/table[1]/tbody/tr[3]/td[2]/text()').extract_first()\n",
    "    Trailing_P_E_Ratio = convert_values(Trailing_P_E_Ratio)\n",
    "    #\n",
    "    Operating_Margin = response.xpath('//*[@id=\"nimbus-app\"]/section/section/section/article/article/div/section[1]/div/section[2]/table/tbody/tr[2]/td[2]/text()').extract_first()\n",
    "    Operating_Margin = convert_values(Operating_Margin)\n",
    "    #                                                                 financials\n",
    "    html = requests.get(f'https://finance.yahoo.com/quote/{Ticker}/financials/', headers=headers).text\n",
    "    response = Selector(text=html)\n",
    "    #Don't include Revenue in Dataframe. We are using it to create Revenue Growth over the last two years.\n",
    "    Revenue_Most_Recent_Annual_Statement = response.xpath('//*[@id=\"nimbus-app\"]/section/section/section/article/article/section/div/div[1]/div[2]/div[1]/div[3]/text()').extract_first()\n",
    "    Revenue_Most_Recent_Annual_Statement = convert_values(Revenue_Most_Recent_Annual_Statement)\n",
    "    #\n",
    "    Revenue_One_Annual_Statement_Ago = response.xpath('//*[@id=\"nimbus-app\"]/section/section/section/article/article/section/div/div[1]/div[2]/div[1]/div[4]/text()').extract_first()\n",
    "    Revenue_One_Annual_Statement_Ago = convert_values(Revenue_One_Annual_Statement_Ago)\n",
    "    #\n",
    "    Revenue_Two_Annual_Statements_Ago = response.xpath('//*[@id=\"nimbus-app\"]/section/section/section/article/article/section/div/div[1]/div[2]/div[1]/div[5]/text()').extract_first()\n",
    "    Revenue_Two_Annual_Statements_Ago = convert_values(Revenue_Two_Annual_Statements_Ago)\n",
    "#\n",
    "    Revenue_Growth_Last_Year_Percent = ((Revenue_Most_Recent_Annual_Statement - Revenue_One_Annual_Statement_Ago) / Revenue_One_Annual_Statement_Ago)*100\n",
    "    Revenue_Growth_One_Year_Ago_Percent = ((Revenue_One_Annual_Statement_Ago - Revenue_Two_Annual_Statements_Ago) / Revenue_Two_Annual_Statements_Ago)*100\n",
    "#\n",
    "    #Don't include Earnings in Dataframe. We are using it to create Revenue Growth over the last two years.\n",
    "    #\n",
    "    Earnings_Most_Recent_Annual_Statement = response.xpath('//*[@id=\"nimbus-app\"]/section/section/section/article/article/section/div/div[1]/div[2]/div[11]/div[3]/text()').extract_first()\n",
    "    Earnings_Most_Recent_Annual_Statement = convert_values(Earnings_Most_Recent_Annual_Statement)\n",
    "    #\n",
    "    Earnings_Two_Annual_Statements_Ago = response.xpath('//*[@id=\"nimbus-app\"]/section/section/section/article/article/section/div/div[1]/div[2]/div[11]/div[5]/text()').extract_first()\n",
    "    Earnings_Two_Annual_Statements_Ago = convert_values(Earnings_Two_Annual_Statements_Ago)\n",
    "#\n",
    "    Earnings_Growth_In_The_Last_Two_Years = Earnings_Most_Recent_Annual_Statement - Earnings_Two_Annual_Statements_Ago\n",
    "#\n",
    "    #                                                                  analysis\n",
    "    html = requests.get(f'https://finance.yahoo.com/quote/{Ticker}/analysis/', headers=headers).text\n",
    "    response = Selector(text=html)\n",
    "    Earnings_Surprise_Most_Recent_Quarter_Percent = response.xpath('//*[@id=\"nimbus-app\"]/section/section/section/article/section[4]/div/table/tbody/tr[4]/td[5]/text()').extract_first()\n",
    "    Earnings_Surprise_Most_Recent_Quarter_Percent = convert_values(Earnings_Surprise_Most_Recent_Quarter_Percent)\n",
    "    #\n",
    "    Earnings_Surprise_One_Quarter_Ago_Percent = response.xpath('//*[@id=\"nimbus-app\"]/section/section/section/article/section[4]/div/table/tbody/tr[4]/td[4]/text()').extract_first()\n",
    "    Earnings_Surprise_One_Quarter_Ago_Percent = convert_values(Earnings_Surprise_One_Quarter_Ago_Percent)\n",
    "    #                                                                 balance-sheet\n",
    "    html = requests.get(f'https://finance.yahoo.com/quote/{Ticker}/balance-sheet/', headers=headers).text\n",
    "    response = Selector(text=html)\n",
    "    #Don't include Shareholders equity\n",
    "    Shareholders_Equity_Most_Recent_Annual_Statement = response.xpath('//*[@id=\"nimbus-app\"]/section/section/section/article/article/section/div/div[1]/div[2]/div[3]/div[2]/text()').extract_first()\n",
    "    Shareholders_Equity_Most_Recent_Annual_Statement = convert_values(Shareholders_Equity_Most_Recent_Annual_Statement)\n",
    "    #\n",
    "    Shareholders_Equity_One_Annual_Statement_Ago = response.xpath('//*[@id=\"nimbus-app\"]/section/section/section/article/article/section/div/div[1]/div[2]/div[3]/div[3]/text()').extract_first()\n",
    "    Shareholders_Equity_One_Annual_Statement_Ago = convert_values(Shareholders_Equity_One_Annual_Statement_Ago)\n",
    "    #\n",
    "    Shareholders_Equity_Two_Annual_Statements_Ago = response.xpath('//*[@id=\"nimbus-app\"]/section/section/section/article/article/section/div/div[1]/div[2]/div[3]/div[4]/text()').extract_first()\n",
    "    Shareholders_Equity_Two_Annual_Statements_Ago = convert_values(Shareholders_Equity_Two_Annual_Statements_Ago)\n",
    "    #\n",
    "    Shareholders_Equity_Three_Annual_Statements_Ago = response.xpath('//*[@id=\"nimbus-app\"]/section/section/section/article/article/section/div/div[1]/div[2]/div[3]/div[5]/text()').extract_first()\n",
    "    Shareholders_Equity_Three_Annual_Statements_Ago = convert_values(Shareholders_Equity_Three_Annual_Statements_Ago)\n",
    "#Return on Equity (ROE) = Net Income ÷ Average Shareholders’ Equity\n",
    "#Average Shareholders’ Equity = ( Last Statement - Previous Statement ) / 2\n",
    "#\n",
    "    Return_on_Equity_Most_Recent_Year = Earnings_Most_Recent_Annual_Statement / ((Shareholders_Equity_Most_Recent_Annual_Statement + Shareholders_Equity_One_Annual_Statement_Ago)/2)\n",
    "    Return_on_Equity_One_Year_Ago = Earnings_One_Annual_Statement_Ago / ((Shareholders_Equity_One_Annual_Statement_Ago + Shareholders_Equity_Two_Annual_Statements_Ago)/2)\n",
    "    Return_on_Equity_Two_Years_Ago = Earnings_Two_Annual_Statements_Ago / ((Shareholders_Equity_Two_Annual_Statements_Ago + Shareholders_Equity_Three_Annual_Statements_Ago)/2)\n",
    "#\n",
    "    #\n",
    "    return Market_Cap, _3_Month_Trading_Volume, PEG_Ratio, Current_Ratio, Trailing_P_E_Ratio, Operating_Margin, \\\n",
    "Earnings_Surprise_Most_Recent_Quarter_Percent, Earnings_Surprise_One_Quarter_Ago_Percent, \\\n",
    "Revenue_Growth_Last_Year_Percent, Revenue_Growth_One_Year_Ago_Percent,\\\n",
    "Earnings_Growth_In_The_Last_Two_Years, Return_on_Equity_Most_Recent_Year, Return_on_Equity_One_Year_Ago, \\\n",
    "Return_on_Equity_Two_Years_Ago, Sector, Industry\n",
    "\n",
    "# Initalize a new pandas DataFrame\n",
    "df = pd.DataFrame(columns = ['Ticker','Market_Cap','_3_Month_Trading_Volume','PEG_Ratio','Current_Ratio','Trailing_P_E_Ratio','Operating_Margin',\n",
    "                             'Earnings_Surprise_Most_Recent_Quarter_Percent','Earnings_Surprise_One_Quarter_Ago_Percent',\n",
    "                             'Revenue_Growth_Last_Year_Percent', 'Revenue_Growth_One_Year_Ago_Percent', 'Earnings_Growth_In_The_Last_Two_Years',\n",
    "                             'Return_on_Equity_Most_Recent_Year','Return_on_Equity_One_Year_Ago', \n",
    "                             'Return_on_Equity_Two_Years_Ago','Sector','Industry'])\n",
    "\n",
    "# Iterate through list of tickers and save values to our df DataFrame\n",
    "for Ticker in tickers:\n",
    "    Market_Cap, _3_Month_Trading_Volume, PEG_Ratio, Current_Ratio, Trailing_P_E_Ratio, Operating_Margin, \\\n",
    "    Earnings_Surprise_Most_Recent_Quarter_Percent, Earnings_Surprise_One_Quarter_Ago_Percent, \\\n",
    "    Revenue_Growth_Last_Year_Percent, Revenue_Growth_One_Year_Ago_Percent, \\\n",
    "    Earnings_Growth_In_The_Last_Two_Years, Return_on_Equity_Most_Recent_Year, Return_on_Equity_One_Year_Ago, \\\n",
    "    Return_on_Equity_Two_Years_Ago, Sector, Industry = get_data(Ticker)\n",
    "    \n",
    "    df = pd.concat([df, pd.DataFrame({'Ticker':[Ticker], 'Market_Cap':[Market_Cap], '_3_Month_Trading_Volume':[_3_Month_Trading_Volume],\n",
    "                                      'PEG_Ratio':[PEG_Ratio], 'Current_Ratio':[Current_Ratio], 'Trailing_P_E_Ratio':[Trailing_P_E_Ratio],\n",
    "                                      'Operating_Margin':[Operating_Margin], \n",
    "                                      'Earnings_Surprise_Most_Recent_Quarter_Percent':[Earnings_Surprise_Most_Recent_Quarter_Percent], \n",
    "                                      'Earnings_Surprise_One_Quarter_Ago_Percent':[Earnings_Surprise_One_Quarter_Ago_Percent],\n",
    "                                      'Revenue_Growth_Last_Year_Percent':[Revenue_Growth_Last_Year_Percent], \n",
    "                                      'Revenue_Growth_One_Year_Ago_Percent':[Revenue_Growth_One_Year_Ago_Percent],\n",
    "                                      'Earnings_Growth_In_The_Last_Two_Years':[Earnings_Growth_In_The_Last_Two_Years],\n",
    "                                      'Return_on_Equity_Most_Recent_Year':[Return_on_Equity_Most_Recent_Year],\n",
    "                                      'Return_on_Equity_One_Year_Ago':[Return_on_Equity_One_Year_Ago], \n",
    "                                      'Return_on_Equity_Two_Years_Ago':[Return_on_Equity_Two_Years_Ago], 'Sector':[Sector], \n",
    "                                      'Industry':[Industry]})], ignore_index=True)\n",
    "\n",
    "# Print the df DataFrame\n",
    "df.head()'''\n",
    "print('For Reference')"
   ]
  },
  {
   "cell_type": "code",
   "execution_count": 339,
   "id": "a8dceb91-4419-46ec-bf0f-734619c6b899",
   "metadata": {},
   "outputs": [
    {
     "name": "stderr",
     "output_type": "stream",
     "text": [
      "C:\\Users\\Win10Admin\\AppData\\Local\\Temp\\ipykernel_2228\\3792952443.py:113: FutureWarning: The behavior of DataFrame concatenation with empty or all-NA entries is deprecated. In a future version, this will no longer exclude empty or all-NA columns when determining the result dtypes. To retain the old behavior, exclude the relevant entries before the concat operation.\n",
      "  df = pd.concat([df, pd.DataFrame({'Ticker':[Ticker], 'Market_Cap':[Market_Cap], '_3_Month_Trading_Volume':[_3_Month_Trading_Volume],\n"
     ]
    },
    {
     "data": {
      "text/html": [
       "<div>\n",
       "<style scoped>\n",
       "    .dataframe tbody tr th:only-of-type {\n",
       "        vertical-align: middle;\n",
       "    }\n",
       "\n",
       "    .dataframe tbody tr th {\n",
       "        vertical-align: top;\n",
       "    }\n",
       "\n",
       "    .dataframe thead th {\n",
       "        text-align: right;\n",
       "    }\n",
       "</style>\n",
       "<table border=\"1\" class=\"dataframe\">\n",
       "  <thead>\n",
       "    <tr style=\"text-align: right;\">\n",
       "      <th></th>\n",
       "      <th>Ticker</th>\n",
       "      <th>Market_Cap</th>\n",
       "      <th>_3_Month_Trading_Volume</th>\n",
       "      <th>PEG_Ratio</th>\n",
       "      <th>Current_Ratio</th>\n",
       "      <th>Trailing_P_E_Ratio</th>\n",
       "      <th>Operating_Margin</th>\n",
       "      <th>Earnings_Surprise_Most_Recent_Quarter_Percent</th>\n",
       "      <th>Earnings_Surprise_One_Quarter_Ago_Percent</th>\n",
       "      <th>Revenue_Growth_Last_Year_Percent</th>\n",
       "      <th>Revenue_Growth_One_Year_Ago_Percent</th>\n",
       "      <th>Earnings_Growth_In_The_Last_Two_Years</th>\n",
       "      <th>Return_on_Equity_Most_Recent_Year</th>\n",
       "      <th>Return_on_Equity_One_Year_Ago</th>\n",
       "      <th>Return_on_Equity_Two_Years_Ago</th>\n",
       "      <th>Sector</th>\n",
       "      <th>Industry</th>\n",
       "    </tr>\n",
       "  </thead>\n",
       "  <tbody>\n",
       "    <tr>\n",
       "      <th>0</th>\n",
       "      <td>AMZN</td>\n",
       "      <td>2.330000e+12</td>\n",
       "      <td>37710000.0</td>\n",
       "      <td>1.81</td>\n",
       "      <td>1.09</td>\n",
       "      <td>47.29</td>\n",
       "      <td>10.96</td>\n",
       "      <td>25.17</td>\n",
       "      <td>22.92</td>\n",
       "      <td>11.829574</td>\n",
       "      <td>9.399517</td>\n",
       "      <td>-2939000.0</td>\n",
       "      <td>0.174898</td>\n",
       "      <td>0.043459</td>\n",
       "      <td>0.288056</td>\n",
       "      <td>Consumer Cyclical</td>\n",
       "      <td>Internet Retail</td>\n",
       "    </tr>\n",
       "    <tr>\n",
       "      <th>1</th>\n",
       "      <td>MCD</td>\n",
       "      <td>2.075300e+11</td>\n",
       "      <td>3490000.0</td>\n",
       "      <td>2.61</td>\n",
       "      <td>0.78</td>\n",
       "      <td>25.43</td>\n",
       "      <td>46.97</td>\n",
       "      <td>0.88</td>\n",
       "      <td>-3.18</td>\n",
       "      <td>9.969115</td>\n",
       "      <td>-0.173536</td>\n",
       "      <td>923600.0</td>\n",
       "      <td>-1.581460</td>\n",
       "      <td>-1.165064</td>\n",
       "      <td>-1.214431</td>\n",
       "      <td>Consumer Cyclical</td>\n",
       "      <td>Restaurants</td>\n",
       "    </tr>\n",
       "  </tbody>\n",
       "</table>\n",
       "</div>"
      ],
      "text/plain": [
       "  Ticker    Market_Cap  _3_Month_Trading_Volume  PEG_Ratio  Current_Ratio  \\\n",
       "0   AMZN  2.330000e+12               37710000.0       1.81           1.09   \n",
       "1    MCD  2.075300e+11                3490000.0       2.61           0.78   \n",
       "\n",
       "   Trailing_P_E_Ratio  Operating_Margin  \\\n",
       "0               47.29             10.96   \n",
       "1               25.43             46.97   \n",
       "\n",
       "   Earnings_Surprise_Most_Recent_Quarter_Percent  \\\n",
       "0                                          25.17   \n",
       "1                                           0.88   \n",
       "\n",
       "   Earnings_Surprise_One_Quarter_Ago_Percent  \\\n",
       "0                                      22.92   \n",
       "1                                      -3.18   \n",
       "\n",
       "   Revenue_Growth_Last_Year_Percent  Revenue_Growth_One_Year_Ago_Percent  \\\n",
       "0                         11.829574                             9.399517   \n",
       "1                          9.969115                            -0.173536   \n",
       "\n",
       "   Earnings_Growth_In_The_Last_Two_Years  Return_on_Equity_Most_Recent_Year  \\\n",
       "0                             -2939000.0                           0.174898   \n",
       "1                               923600.0                          -1.581460   \n",
       "\n",
       "   Return_on_Equity_One_Year_Ago  Return_on_Equity_Two_Years_Ago  \\\n",
       "0                       0.043459                        0.288056   \n",
       "1                      -1.165064                       -1.214431   \n",
       "\n",
       "                Sector           Industry  \n",
       "0  Consumer Cyclical    Internet Retail    \n",
       "1  Consumer Cyclical        Restaurants    "
      ]
     },
     "execution_count": 339,
     "metadata": {},
     "output_type": "execute_result"
    }
   ],
   "source": [
    "#Dataframe with math done in the function, fixed Earnings Growth, and fixed ROE\n",
    "\n",
    "tickers = ['AMZN','MCD']\n",
    "\n",
    "def get_data(Ticker):\n",
    "    headers = {'User-Agent': 'Mozilla/5.0 (Windows NT 10.0; Win64; x64) AppleWebKit/537.36 (KHTML, like Gecko) Chrome/71.0.3578.98 Safari/537.36' } \n",
    "    #                                                                 profile\n",
    "    html = requests.get(f'https://finance.yahoo.com/quote/{Ticker}/profile/', headers=headers).text\n",
    "    response = Selector(text=html)\n",
    "    Sector = response.xpath('//*[@id=\"nimbus-app\"]/section/section/section/article/section[2]/section[2]/div/dl/div[1]/dd/a/text()').extract_first()\n",
    "    #\n",
    "    html = requests.get(f'https://finance.yahoo.com/quote/{Ticker}/profile/', headers=headers).text\n",
    "    response = Selector(text=html)\n",
    "    Industry = response.xpath('//*[@id=\"nimbus-app\"]/section/section/section/article/section[2]/section[2]/div/dl/div[2]/a/text()').extract_first()\n",
    "    #                                                                 key-statistics\n",
    "    html = requests.get(f'https://finance.yahoo.com/quote/{Ticker}/key-statistics/', headers=headers).text\n",
    "    response = Selector(text=html)\n",
    "    Market_Cap = response.xpath('//*[@id=\"nimbus-app\"]/section/section/section/article/section[2]/div[2]/table[1]/tbody/tr[1]/td[2]/text()').extract_first()\n",
    "    Market_Cap = convert_values(Market_Cap)\n",
    "    #\n",
    "    _3_Month_Trading_Volume = response.xpath('//*[@id=\"nimbus-app\"]/section/section/section/article/article/div/section[2]/div/section[2]/table/tbody/tr[1]/td[2]/text()').extract_first()\n",
    "    _3_Month_Trading_Volume = convert_values(_3_Month_Trading_Volume)\n",
    "    #\n",
    "    PEG_Ratio = response.xpath('//*[@id=\"nimbus-app\"]/section/section/section/article/section[2]/div[2]/table[1]/tbody/tr[5]/td[2]/text()').extract_first()\n",
    "    PEG_Ratio = convert_values(PEG_Ratio)\n",
    "    #\n",
    "    Current_Ratio = response.xpath('//*[@id=\"nimbus-app\"]/section/section/section/article/article/div/section[1]/div/section[5]/table/tbody/tr[5]/td[2]/text()').extract_first()\n",
    "    Current_Ratio = convert_values(Current_Ratio)\n",
    "    #\n",
    "    Trailing_P_E_Ratio = response.xpath('//*[@id=\"nimbus-app\"]/section/section/section/article/section[2]/div[2]/table[1]/tbody/tr[3]/td[2]/text()').extract_first()\n",
    "    Trailing_P_E_Ratio = convert_values(Trailing_P_E_Ratio)\n",
    "    #\n",
    "    Operating_Margin = response.xpath('//*[@id=\"nimbus-app\"]/section/section/section/article/article/div/section[1]/div/section[2]/table/tbody/tr[2]/td[2]/text()').extract_first()\n",
    "    Operating_Margin = convert_values(Operating_Margin)\n",
    "    #                                                                 financials\n",
    "    html = requests.get(f'https://finance.yahoo.com/quote/{Ticker}/financials/', headers=headers).text\n",
    "    response = Selector(text=html)\n",
    "    #Don't include Revenue in Dataframe. We are using it to create Revenue Growth over the last two years.\n",
    "    Revenue_Most_Recent_Annual_Statement = response.xpath('//*[@id=\"nimbus-app\"]/section/section/section/article/article/section/div/div[1]/div[2]/div[1]/div[3]/text()').extract_first()\n",
    "    Revenue_Most_Recent_Annual_Statement = convert_values(Revenue_Most_Recent_Annual_Statement)\n",
    "    #\n",
    "    Revenue_One_Annual_Statement_Ago = response.xpath('//*[@id=\"nimbus-app\"]/section/section/section/article/article/section/div/div[1]/div[2]/div[1]/div[4]/text()').extract_first()\n",
    "    Revenue_One_Annual_Statement_Ago = convert_values(Revenue_One_Annual_Statement_Ago)\n",
    "    #\n",
    "    Revenue_Two_Annual_Statements_Ago = response.xpath('//*[@id=\"nimbus-app\"]/section/section/section/article/article/section/div/div[1]/div[2]/div[1]/div[5]/text()').extract_first()\n",
    "    Revenue_Two_Annual_Statements_Ago = convert_values(Revenue_Two_Annual_Statements_Ago)\n",
    "#\n",
    "    Revenue_Growth_Last_Year_Percent = ((Revenue_Most_Recent_Annual_Statement - Revenue_One_Annual_Statement_Ago) / Revenue_One_Annual_Statement_Ago)*100\n",
    "    Revenue_Growth_One_Year_Ago_Percent = ((Revenue_One_Annual_Statement_Ago - Revenue_Two_Annual_Statements_Ago) / Revenue_Two_Annual_Statements_Ago)*100\n",
    "#\n",
    "    #Don't include Earnings in Dataframe. We are using it to create Revenue Growth over the last two years.\n",
    "    #\n",
    "    Earnings_Most_Recent_Annual_Statement = response.xpath('//*[@id=\"nimbus-app\"]/section/section/section/article/article/section/div/div[1]/div[2]/div[11]/div[3]/text()').extract_first()\n",
    "    Earnings_Most_Recent_Annual_Statement = convert_values(Earnings_Most_Recent_Annual_Statement)\n",
    "    #\n",
    "    Earnings_Two_Annual_Statements_Ago = response.xpath('//*[@id=\"nimbus-app\"]/section/section/section/article/article/section/div/div[1]/div[2]/div[11]/div[5]/text()').extract_first()\n",
    "    Earnings_Two_Annual_Statements_Ago = convert_values(Earnings_Two_Annual_Statements_Ago)\n",
    "#\n",
    "    Earnings_Growth_In_The_Last_Two_Years = Earnings_Most_Recent_Annual_Statement - Earnings_Two_Annual_Statements_Ago\n",
    "#\n",
    "    #                                                                  analysis\n",
    "    html = requests.get(f'https://finance.yahoo.com/quote/{Ticker}/analysis/', headers=headers).text\n",
    "    response = Selector(text=html)\n",
    "    Earnings_Surprise_Most_Recent_Quarter_Percent = response.xpath('//*[@id=\"nimbus-app\"]/section/section/section/article/section[4]/div/table/tbody/tr[4]/td[5]/text()').extract_first()\n",
    "    Earnings_Surprise_Most_Recent_Quarter_Percent = convert_values(Earnings_Surprise_Most_Recent_Quarter_Percent)\n",
    "    #\n",
    "    Earnings_Surprise_One_Quarter_Ago_Percent = response.xpath('//*[@id=\"nimbus-app\"]/section/section/section/article/section[4]/div/table/tbody/tr[4]/td[4]/text()').extract_first()\n",
    "    Earnings_Surprise_One_Quarter_Ago_Percent = convert_values(Earnings_Surprise_One_Quarter_Ago_Percent)\n",
    "    #                                                                 balance-sheet\n",
    "    html = requests.get(f'https://finance.yahoo.com/quote/{Ticker}/balance-sheet/', headers=headers).text\n",
    "    response = Selector(text=html)\n",
    "    #Don't include Shareholders equity\n",
    "    Shareholders_Equity_Most_Recent_Annual_Statement = response.xpath('//*[@id=\"nimbus-app\"]/section/section/section/article/article/section/div/div[1]/div[2]/div[3]/div[2]/text()').extract_first()\n",
    "    Shareholders_Equity_Most_Recent_Annual_Statement = convert_values(Shareholders_Equity_Most_Recent_Annual_Statement)\n",
    "    #\n",
    "    Shareholders_Equity_One_Annual_Statement_Ago = response.xpath('//*[@id=\"nimbus-app\"]/section/section/section/article/article/section/div/div[1]/div[2]/div[3]/div[3]/text()').extract_first()\n",
    "    Shareholders_Equity_One_Annual_Statement_Ago = convert_values(Shareholders_Equity_One_Annual_Statement_Ago)\n",
    "    #\n",
    "    Shareholders_Equity_Two_Annual_Statements_Ago = response.xpath('//*[@id=\"nimbus-app\"]/section/section/section/article/article/section/div/div[1]/div[2]/div[3]/div[4]/text()').extract_first()\n",
    "    Shareholders_Equity_Two_Annual_Statements_Ago = convert_values(Shareholders_Equity_Two_Annual_Statements_Ago)\n",
    "    #\n",
    "    Shareholders_Equity_Three_Annual_Statements_Ago = response.xpath('//*[@id=\"nimbus-app\"]/section/section/section/article/article/section/div/div[1]/div[2]/div[3]/div[5]/text()').extract_first()\n",
    "    Shareholders_Equity_Three_Annual_Statements_Ago = convert_values(Shareholders_Equity_Three_Annual_Statements_Ago)\n",
    "#Return on Equity (ROE) = Net Income ÷ Average Shareholders’ Equity\n",
    "#Average Shareholders’ Equity = ( Last Statement - Previous Statement ) / 2\n",
    "#\n",
    "    Return_on_Equity_Most_Recent_Year = Earnings_Most_Recent_Annual_Statement / ((Shareholders_Equity_Most_Recent_Annual_Statement + Shareholders_Equity_One_Annual_Statement_Ago)/2)\n",
    "    Return_on_Equity_One_Year_Ago = Earnings_One_Annual_Statement_Ago / ((Shareholders_Equity_One_Annual_Statement_Ago + Shareholders_Equity_Two_Annual_Statements_Ago)/2)\n",
    "    Return_on_Equity_Two_Years_Ago = Earnings_Two_Annual_Statements_Ago / ((Shareholders_Equity_Two_Annual_Statements_Ago + Shareholders_Equity_Three_Annual_Statements_Ago)/2)\n",
    "#\n",
    "    #\n",
    "    return Market_Cap, _3_Month_Trading_Volume, PEG_Ratio, Current_Ratio, Trailing_P_E_Ratio, Operating_Margin, \\\n",
    "Earnings_Surprise_Most_Recent_Quarter_Percent, Earnings_Surprise_One_Quarter_Ago_Percent, \\\n",
    "Revenue_Growth_Last_Year_Percent, Revenue_Growth_One_Year_Ago_Percent,\\\n",
    "Earnings_Growth_In_The_Last_Two_Years, Return_on_Equity_Most_Recent_Year, Return_on_Equity_One_Year_Ago, \\\n",
    "Return_on_Equity_Two_Years_Ago, Sector, Industry\n",
    "\n",
    "# Initalize a new pandas DataFrame\n",
    "df = pd.DataFrame(columns = ['Ticker','Market_Cap','_3_Month_Trading_Volume','PEG_Ratio','Current_Ratio','Trailing_P_E_Ratio','Operating_Margin',\n",
    "                             'Earnings_Surprise_Most_Recent_Quarter_Percent','Earnings_Surprise_One_Quarter_Ago_Percent',\n",
    "                             'Revenue_Growth_Last_Year_Percent', 'Revenue_Growth_One_Year_Ago_Percent', 'Earnings_Growth_In_The_Last_Two_Years',\n",
    "                             'Return_on_Equity_Most_Recent_Year','Return_on_Equity_One_Year_Ago', \n",
    "                             'Return_on_Equity_Two_Years_Ago','Sector','Industry'])\n",
    "\n",
    "# Iterate through list of tickers and save values to our df DataFrame\n",
    "for Ticker in tickers:\n",
    "    Market_Cap, _3_Month_Trading_Volume, PEG_Ratio, Current_Ratio, Trailing_P_E_Ratio, Operating_Margin, \\\n",
    "    Earnings_Surprise_Most_Recent_Quarter_Percent, Earnings_Surprise_One_Quarter_Ago_Percent, \\\n",
    "    Revenue_Growth_Last_Year_Percent, Revenue_Growth_One_Year_Ago_Percent, \\\n",
    "    Earnings_Growth_In_The_Last_Two_Years, Return_on_Equity_Most_Recent_Year, Return_on_Equity_One_Year_Ago, \\\n",
    "    Return_on_Equity_Two_Years_Ago, Sector, Industry = get_data(Ticker)\n",
    "    \n",
    "    df = pd.concat([df, pd.DataFrame({'Ticker':[Ticker], 'Market_Cap':[Market_Cap], '_3_Month_Trading_Volume':[_3_Month_Trading_Volume],\n",
    "                                      'PEG_Ratio':[PEG_Ratio], 'Current_Ratio':[Current_Ratio], 'Trailing_P_E_Ratio':[Trailing_P_E_Ratio],\n",
    "                                      'Operating_Margin':[Operating_Margin], \n",
    "                                      'Earnings_Surprise_Most_Recent_Quarter_Percent':[Earnings_Surprise_Most_Recent_Quarter_Percent], \n",
    "                                      'Earnings_Surprise_One_Quarter_Ago_Percent':[Earnings_Surprise_One_Quarter_Ago_Percent],\n",
    "                                      'Revenue_Growth_Last_Year_Percent':[Revenue_Growth_Last_Year_Percent], \n",
    "                                      'Revenue_Growth_One_Year_Ago_Percent':[Revenue_Growth_One_Year_Ago_Percent],\n",
    "                                      'Earnings_Growth_In_The_Last_Two_Years':[Earnings_Growth_In_The_Last_Two_Years],\n",
    "                                      'Return_on_Equity_Most_Recent_Year':[Return_on_Equity_Most_Recent_Year],\n",
    "                                      'Return_on_Equity_One_Year_Ago':[Return_on_Equity_One_Year_Ago], \n",
    "                                      'Return_on_Equity_Two_Years_Ago':[Return_on_Equity_Two_Years_Ago], 'Sector':[Sector], \n",
    "                                      'Industry':[Industry]})], ignore_index=True)\n",
    "\n",
    "# Print the df DataFrame\n",
    "df.head()"
   ]
  },
  {
   "cell_type": "code",
   "execution_count": null,
   "id": "c56684e2-c033-465d-96d5-957da228b986",
   "metadata": {},
   "outputs": [],
   "source": [
    "#Functions that will approve (1/True) or deny (0/False) stocks according to the screening parameters."
   ]
  },
  {
   "cell_type": "code",
   "execution_count": null,
   "id": "d3f95e0f-3909-468f-9a1b-69faabf88b99",
   "metadata": {},
   "outputs": [],
   "source": [
    "#1.) Market Cap greater than $2B & 3-month trading volume of 200,000"
   ]
  },
  {
   "cell_type": "code",
   "execution_count": 25,
   "id": "dc0a2537-bd8f-40de-9514-4d39bd1c615a",
   "metadata": {},
   "outputs": [
    {
     "name": "stdout",
     "output_type": "stream",
     "text": [
      "True\n"
     ]
    }
   ],
   "source": [
    "def Market_Cap_Test(value):\n",
    "    return value >= 2_000_000_000\n",
    "\n",
    "print(Market_Cap_Test(2_000_000_009))"
   ]
  },
  {
   "cell_type": "code",
   "execution_count": null,
   "id": "f21aa59b-11c1-4373-aea2-688ca5a3e900",
   "metadata": {},
   "outputs": [],
   "source": [
    "#2.) Revenue growth exceeding 3-4% for the last 2 years"
   ]
  },
  {
   "cell_type": "code",
   "execution_count": 333,
   "id": "7bba8554-ad27-4a7c-95c9-1e114d5bfa92",
   "metadata": {},
   "outputs": [
    {
     "name": "stdout",
     "output_type": "stream",
     "text": [
      "True\n"
     ]
    }
   ],
   "source": [
    "def Revenue_Growth_Test(value1,value2):\n",
    "    return value1 > 3 and value2 > 3\n",
    "\n",
    "print(Revenue_Growth_Test(4,4))"
   ]
  },
  {
   "cell_type": "code",
   "execution_count": null,
   "id": "d7a534f4-b959-4792-b58c-91e338910039",
   "metadata": {},
   "outputs": [],
   "source": [
    "#3.) Earnings growth in the last 2 years "
   ]
  },
  {
   "cell_type": "code",
   "execution_count": 323,
   "id": "4dc1bb73-0b66-4ef0-ae50-59869f6a8e85",
   "metadata": {},
   "outputs": [
    {
     "name": "stdout",
     "output_type": "stream",
     "text": [
      "True\n"
     ]
    }
   ],
   "source": [
    "def Earnings_Growth_Test(value1):\n",
    "    return value1 > 0 \n",
    "\n",
    "print(Earnings_Growth_Test(4))"
   ]
  },
  {
   "cell_type": "code",
   "execution_count": null,
   "id": "4adaea66-f224-42f2-9e31-885f77659cd0",
   "metadata": {},
   "outputs": [],
   "source": [
    "#4.) Positive earnings surprise sometime within the past 2 quarters (Uses EPS)"
   ]
  },
  {
   "cell_type": "code",
   "execution_count": 123,
   "id": "3ba6bd65-4758-44f5-9e78-483905f0afb3",
   "metadata": {},
   "outputs": [
    {
     "name": "stdout",
     "output_type": "stream",
     "text": [
      "True\n"
     ]
    }
   ],
   "source": [
    "def Positive_Earnings_Surprise_Test(value1,value2):\n",
    "    return value1 > 0 or value2 > 0\n",
    "\n",
    "print(Positive_Earnings_Surprise_Test(-1,1))"
   ]
  },
  {
   "cell_type": "code",
   "execution_count": null,
   "id": "423e4144-4647-4ba9-accb-3b434803ad82",
   "metadata": {},
   "outputs": [],
   "source": [
    "#5.) ROE and/or ROIC growing in the last 3 years (Unfinished)"
   ]
  },
  {
   "cell_type": "code",
   "execution_count": 309,
   "id": "ad962ab7-07f3-47d5-ae9a-9a09fb03d7f5",
   "metadata": {},
   "outputs": [
    {
     "name": "stdout",
     "output_type": "stream",
     "text": [
      "True\n"
     ]
    }
   ],
   "source": [
    "def ROE_Growth_Test(value1,value2):\n",
    "    return value1 > 0 or value2 > 0\n",
    "\n",
    "print(ROE_Growth_Test(-1,1))"
   ]
  },
  {
   "cell_type": "code",
   "execution_count": null,
   "id": "cf81d9ee-2692-4aed-8643-9aef6f27fa93",
   "metadata": {},
   "outputs": [],
   "source": [
    "#6.) PEG ratio is less than the industry average (unfinished)"
   ]
  },
  {
   "cell_type": "code",
   "execution_count": null,
   "id": "05f6512f-673b-4b37-8a2e-d2f1724cf438",
   "metadata": {},
   "outputs": [],
   "source": [
    "\n",
    "\n",
    "def Industry_List(value1)\n",
    "    if Industry in df = "
   ]
  },
  {
   "cell_type": "code",
   "execution_count": 125,
   "id": "5de9ef25-7d89-4953-86a0-29e54d1bd0bb",
   "metadata": {},
   "outputs": [
    {
     "data": {
      "text/plain": [
       "'def find_industry(df, Ticker):\\n    Industry = df.loc[df[\"Ticker\"] == Ticker, \"Industry\"]\\n    if not Industry.empty:\\n        return Industry.values[0]  # Return the first matching value\\n    else:\\n        return \"Ticker not found in the DataFrame\"\\n\\n# Find the industry for \"AMZN\"\\nTicker = \"AMZN\"\\nIndustry = find_industry(df, Ticker)\\nprint(f\"The industry for ticker {Ticker} is: {Industry}\")'"
      ]
     },
     "execution_count": 125,
     "metadata": {},
     "output_type": "execute_result"
    }
   ],
   "source": [
    "\"\"\"def find_industry(df, Ticker):\n",
    "    Industry = df.loc[df[\"Ticker\"] == Ticker, \"Industry\"]\n",
    "    if not Industry.empty:\n",
    "        return Industry.values[0]  # Return the first matching value\n",
    "    else:\n",
    "        return \"Ticker not found in the DataFrame\"\n",
    "\n",
    "# Find the industry for \"AMZN\"\n",
    "Ticker = \"AMZN\"\n",
    "Industry = find_industry(df, Ticker)\n",
    "print(f\"The industry for ticker {Ticker} is: {Industry}\")\"\"\""
   ]
  },
  {
   "cell_type": "code",
   "execution_count": 155,
   "id": "9d65d622-847b-4984-9d98-c68db184fdc7",
   "metadata": {},
   "outputs": [
    {
     "ename": "SyntaxError",
     "evalue": "incomplete input (245160029.py, line 7)",
     "output_type": "error",
     "traceback": [
      "\u001b[1;36m  Cell \u001b[1;32mIn[155], line 7\u001b[1;36m\u001b[0m\n\u001b[1;33m    #print(industry_avg_peg)\u001b[0m\n\u001b[1;37m                            ^\u001b[0m\n\u001b[1;31mSyntaxError\u001b[0m\u001b[1;31m:\u001b[0m incomplete input\n"
     ]
    }
   ],
   "source": [
    "def PEG_Test(value1):\n",
    "    \n",
    "    industry_avg_peg = df.groupby(\"Industry\")[\"PEG_Ratio\"].mean()\n",
    "    return value1 < industry_avg_peg\n",
    "#industry_avg_peg = df.groupby(\"Industry\")[\"PEG_Ratio\"].mean()\n",
    "print(PEG_Test(df(AMZN[PEG_Ratio]))\n",
    "#print(industry_avg_peg)"
   ]
  },
  {
   "cell_type": "code",
   "execution_count": null,
   "id": "7add4c3b-daa8-48bf-9d14-d085134785d6",
   "metadata": {},
   "outputs": [],
   "source": [
    "#7.) Current Ratio greater than 1"
   ]
  },
  {
   "cell_type": "code",
   "execution_count": 133,
   "id": "c4127619-85b9-4c22-90f0-3e1fb9492e00",
   "metadata": {},
   "outputs": [
    {
     "name": "stdout",
     "output_type": "stream",
     "text": [
      "True\n"
     ]
    }
   ],
   "source": [
    "def Current_Ratio_Test(value):\n",
    "    return value > 1\n",
    "\n",
    "print(Current_Ratio_Test(1.1))"
   ]
  },
  {
   "cell_type": "code",
   "execution_count": null,
   "id": "1fc08201-5921-453a-9ec8-cba69c1339ff",
   "metadata": {},
   "outputs": [],
   "source": [
    "#8.) P/E less than the industry average"
   ]
  },
  {
   "cell_type": "code",
   "execution_count": null,
   "id": "837a9526-e7ee-45c2-9a32-6b9c26940cf0",
   "metadata": {},
   "outputs": [],
   "source": []
  },
  {
   "cell_type": "code",
   "execution_count": null,
   "id": "0ec45e43-0147-4617-a1d7-160874e84ced",
   "metadata": {},
   "outputs": [],
   "source": [
    "#9.) Operating Margin exceeding sector average, preferably a company within a profitable industry."
   ]
  },
  {
   "cell_type": "code",
   "execution_count": 303,
   "id": "a7f5e2a8-71be-4586-9f8a-1a0c3af3f11f",
   "metadata": {},
   "outputs": [
    {
     "name": "stdout",
     "output_type": "stream",
     "text": [
      "True\n"
     ]
    }
   ],
   "source": [
    "#Instead of referencing the dataframe, it SHOULD make its own dataframe with just the sector Operating_Margin.\n",
    "#That way, the code might be able to be a bit more agile and not require so much data to be imported.\n",
    "def Operating_Margin_Test(value):\n",
    "    # Calculate the sector average\n",
    "    Operating_Margin_Sector_Average = df['Operating_Margin'].mean()\n",
    "    \n",
    "    # Use .loc to access the value for the given ticker\n",
    "    return df.loc[value, 'Operating_Margin'] > Operating_Margin_Sector_Average\n",
    "\n",
    "# Test the function\n",
    "print(Operating_Margin_Test('MCD'))"
   ]
  },
  {
   "cell_type": "code",
   "execution_count": null,
   "id": "b2560cde-2a66-44ad-a53f-aaf1f986af14",
   "metadata": {},
   "outputs": [],
   "source": [
    "#The beginning of the full shababang"
   ]
  },
  {
   "cell_type": "code",
   "execution_count": 30,
   "id": "66d8940d-b298-4b69-bde3-c682e555f07c",
   "metadata": {},
   "outputs": [
    {
     "name": "stdout",
     "output_type": "stream",
     "text": [
      "['AMZN', 'TSLA', 'HD', 'MCD', 'BKNG', 'LOW', 'TJX', 'SBUX', 'NKE', 'MELI', 'CMG', 'ORLY', 'MAR', 'GM', 'HLT', 'RCL', 'ABNB', 'AZO', 'ROST', 'DASH', 'DHI', 'FLUT', 'F', 'LEN', 'YUM', 'LULU', 'GRMN', 'EBAY', 'DECK', 'NVR', 'CVNA', 'PHM', 'TSCO', 'CCL', 'EXPE', 'WSM', 'DRI', 'LVS', 'DKNG', 'BURL', 'ULTA', 'TOL', 'BBY', 'GPC', 'DPZ', 'TPR', 'APTV', 'POOL', 'TXRH', 'KMX', 'SCI', 'NCLH', 'DUOL', 'DKS', 'BLD', 'LAD', 'FND', 'MUSA', 'ARMK', 'LKQ', 'TPX', 'RL', 'PLNT', 'MGM', 'CHDN', 'WYNN', 'WING', 'RIVN', 'GME', 'HAS', 'WH', 'SKX', 'HRB', 'LNW', 'CZR', 'TMHC', 'BROS', 'CAVA', 'EAT', 'ANF', 'BWA', 'MHK', 'VFC', 'MOD', 'ALV', 'BBWI', 'H', 'MTH', 'PTON', 'GNTX', 'MAT', 'KBH', 'OLLI', 'MTN', 'WHR', 'GPI', 'RH', 'BFAM', 'ETSY', 'SKY', 'PVH', 'CHWY', 'CROX', 'THO', 'BYD', 'IBP', 'GAP', 'FTDR', 'SHAK', 'BC', 'CHH', 'LRN', 'LEA', 'SG', 'LOPE', 'MHO', 'FUN', 'KTB', 'AN', 'ABG', 'VVV', 'FIVE', 'CVCO', 'DORM', 'BOOT', 'ATGE', 'SIG', 'TNL', 'TPH', 'HOG', 'HBI', 'NWL', 'VSCO', 'M', 'W', 'ASO', 'YETI', 'PENN', 'GHC', 'PAG', 'PII', 'WWW', 'VAC', 'SHOO', 'AEO', 'WEN', 'URBN', 'PHIN', 'LCII', 'PATK', 'COLM', 'HGV', 'CAKE', 'LAUR', 'GT', 'GRBK', 'CCS', 'UAA', 'LCID', 'RVLV', 'GOLF', 'LGIH', 'RRR', 'UTI', 'PRKS', 'WRBY', 'CWH', 'LZB', 'JWN', 'ADT', 'VC', 'BKE', 'CPRI', 'PRDO', 'FL', 'OSW', 'LTH', 'SBH', 'STRA', 'SABR', 'LEG', 'AAP', 'EVRI', 'UA', 'QS', 'UPBD', 'CRI', 'PZZA', 'WGO', 'DDS', 'MCRI', 'WINA', 'BZH', 'CBRL', 'SAH', 'SONO', 'XPEL', 'GIII', 'MBUU', 'LEVI', 'FWRG', 'ADNT', 'HOV', 'HELE', 'PLYA', 'DFH', 'THRM', 'HZO', 'VZIO', 'MCW', 'COUR', 'PLAY', 'MBLY', 'KSS', 'MNRO', 'BJRI', 'GDEN', 'EVGO', 'OXM', 'FOXF', 'CAL', 'DAN', 'JACK', 'WOR', 'DNUT', 'SMP', 'ETD', 'KRUS', 'GTX', 'PTLO', 'ACEL', 'SCVL', 'EYE', 'AXL', 'FIGS', 'MODG', 'RGR', 'BLMN', 'CSV', 'SWBI', 'UDMY', 'ODP', 'DIN', 'LIND', 'LOVE', 'GEAR', 'GCT', 'RICK', 'BALY', 'WOOF', 'GES', 'ARKO', 'SFIX', 'ARHS', 'XPOF', 'ZUMZ', 'GCO', 'DENN', 'CRMT', 'BOWL', 'MOV', 'HVT', 'FNKO', 'SNBR', 'LESL', 'TH', 'LEGH', 'SWIM', 'ONEW', 'BYON', 'CRCT', 'FLWS', 'GRPN', 'CHGG', 'DBI', 'IRBT', 'LE', 'EWCZ', 'SRI', 'COOK', 'SHCO', 'QRTEA', 'LAZR', 'SLDP', 'HLLY', 'GPRO', 'CLAR', 'TDUP', 'JOUT', 'WW', 'POWW', 'PLCE', 'DTC', 'GOEV', 'RSI', 'BBW', 'AMRK', 'SVV']\n"
     ]
    }
   ],
   "source": [
    "import pandas as pd\n",
    "\n",
    "# Load the CSV file\n",
    "file_path = \"Holdings_details_Consumer_Discretionary_ETF.csv\"\n",
    "data = pd.read_csv(file_path)\n",
    "\n",
    "# Extract the tickers into a Python list\n",
    "tickers = data['TICKER'].tolist()\n",
    "\n",
    "# Print the list to confirm\n",
    "print(tickers)"
   ]
  },
  {
   "cell_type": "code",
   "execution_count": 32,
   "id": "9b86f8c5-7123-4b21-8841-57194073d778",
   "metadata": {},
   "outputs": [],
   "source": [
    "def get_data(Ticker):\n",
    "    headers = {'User-Agent': 'Mozilla/5.0 (Windows NT 10.0; Win64; x64) AppleWebKit/537.36 (KHTML, like Gecko) Chrome/71.0.3578.98 Safari/537.36' } \n",
    "    #                                                                 key-statistics\n",
    "    html = requests.get(f'https://finance.yahoo.com/quote/{Ticker}/key-statistics/', headers=headers).text\n",
    "    response = Selector(text=html)\n",
    "    Market_Cap = response.xpath('//*[@id=\"nimbus-app\"]/section/section/section/article/section[2]/div[2]/table[1]/tbody/tr[1]/td[2]/text()').extract_first()\n",
    "#\n",
    "    _3_Month_Trading_Volume = response.xpath('//*[@id=\"nimbus-app\"]/section/section/section/article/article/div/section[2]/div/section[2]/table/tbody/tr[1]/td[2]/text()').extract_first()\n",
    "#\n",
    "    PEG_Ratio = response.xpath('//*[@id=\"nimbus-app\"]/section/section/section/article/section[2]/div[2]/table[1]/tbody/tr[5]/td[2]/text()').extract_first()\n",
    "#\n",
    "    Current_Ratio = response.xpath('//*[@id=\"nimbus-app\"]/section/section/section/article/article/div/section[1]/div/section[5]/table/tbody/tr[5]/td[2]/text()').extract_first()\n",
    "#\n",
    "    Trailing_P_E_Ratio = response.xpath('//*[@id=\"nimbus-app\"]/section/section/section/article/section[2]/div[2]/table[1]/tbody/tr[3]/td[2]/text()').extract_first()\n",
    "#\n",
    "    Operating_Margin = response.xpath('//*[@id=\"nimbus-app\"]/section/section/section/article/article/div/section[1]/div/section[2]/table/tbody/tr[2]/td[2]/text()').extract_first()\n",
    "#                                                                 financials\n",
    "    html = requests.get(f'https://finance.yahoo.com/quote/{Ticker}/financials/', headers=headers).text\n",
    "    response = Selector(text=html)\n",
    "    Revenue_Most_Recent_Annual_Statement = response.xpath('//*[@id=\"nimbus-app\"]/section/section/section/article/article/section/div/div[1]/div[2]/div[1]/div[3]/text()').extract_first()\n",
    "#\n",
    "    Revenue_One_Annual_Statement_Ago = response.xpath('//*[@id=\"nimbus-app\"]/section/section/section/article/article/section/div/div[1]/div[2]/div[1]/div[4]/text()').extract_first()\n",
    "#\n",
    "    Revenue_Two_Annual_Statements_Ago = response.xpath('//*[@id=\"nimbus-app\"]/section/section/section/article/article/section/div/div[1]/div[2]/div[1]/div[5]/text()').extract_first()\n",
    "#\n",
    "    Earnings_Most_Recent_Annual_Statement = response.xpath('//*[@id=\"nimbus-app\"]/section/section/section/article/article/section/div/div[1]/div[2]/div[11]/div[3]/text()').extract_first()\n",
    "#\n",
    "    Earnings_One_Annual_Statement_Ago = response.xpath('//*[@id=\"nimbus-app\"]/section/section/section/article/article/section/div/div[1]/div[2]/div[11]/div[4]/text()').extract_first()\n",
    "#\n",
    "    Earnings_Two_Annual_Statements_Ago = response.xpath('//*[@id=\"nimbus-app\"]/section/section/section/article/article/section/div/div[1]/div[2]/div[11]/div[5]/text()').extract_first()\n",
    "#                                                                  analysis\n",
    "    html = requests.get(f'https://finance.yahoo.com/quote/{Ticker}/analysis/', headers=headers).text\n",
    "    response = Selector(text=html)\n",
    "    Earnings_Surprise_Most_Recent_Quarter_Percent = response.xpath('//*[@id=\"nimbus-app\"]/section/section/section/article/section[4]/div/table/tbody/tr[4]/td[5]/text()').extract_first()\n",
    "#\n",
    "    Earnings_Surprise_One_Quarter_Ago_Percent = response.xpath('//*[@id=\"nimbus-app\"]/section/section/section/article/section[4]/div/table/tbody/tr[4]/td[4]/text()').extract_first()\n",
    "#                                                                 balance-sheet\n",
    "    html = requests.get(f'https://finance.yahoo.com/quote/{Ticker}/balance-sheet/', headers=headers).text\n",
    "    response = Selector(text=html)\n",
    "    Shareholders_Equity_Most_Recent_Annual_Statement = response.xpath('//*[@id=\"nimbus-app\"]/section/section/section/article/article/section/div/div[1]/div[2]/div[3]/div[2]/text()').extract_first()\n",
    "#\n",
    "    Shareholders_Equity_One_Annual_Statement_Ago = response.xpath('//*[@id=\"nimbus-app\"]/section/section/section/article/article/section/div/div[1]/div[2]/div[3]/div[3]/text()').extract_first()\n",
    "#\n",
    "    Shareholders_Equity_Two_Annual_Statements_Ago = response.xpath('//*[@id=\"nimbus-app\"]/section/section/section/article/article/section/div/div[1]/div[2]/div[3]/div[4]/text()').extract_first()\n",
    "#\n",
    "    Shareholders_Equity_Three_Annual_Statements_Ago = response.xpath('//*[@id=\"nimbus-app\"]/section/section/section/article/article/section/div/div[1]/div[2]/div[3]/div[5]/text()').extract_first()\n",
    "    return Market_Cap, _3_Month_Trading_Volume, PEG_Ratio, Current_Ratio, Trailing_P_E_Ratio, Operating_Margin, Revenue_Most_Recent_Annual_Statement,\\\n",
    "Revenue_One_Annual_Statement_Ago, Revenue_Two_Annual_Statements_Ago, Earnings_Most_Recent_Annual_Statement, Earnings_One_Annual_Statement_Ago,\\\n",
    "Earnings_Two_Annual_Statements_Ago, Earnings_Surprise_Most_Recent_Quarter_Percent, Earnings_Surprise_One_Quarter_Ago_Percent, \\\n",
    "Shareholders_Equity_Most_Recent_Annual_Statement, Shareholders_Equity_One_Annual_Statement_Ago, Shareholders_Equity_Two_Annual_Statements_Ago,\\\n",
    "Shareholders_Equity_Three_Annual_Statements_Ago"
   ]
  },
  {
   "cell_type": "code",
   "execution_count": 34,
   "id": "e9e4f424-5fe4-4f42-a0df-a35bb8d17170",
   "metadata": {},
   "outputs": [
    {
     "data": {
      "text/html": [
       "<div>\n",
       "<style scoped>\n",
       "    .dataframe tbody tr th:only-of-type {\n",
       "        vertical-align: middle;\n",
       "    }\n",
       "\n",
       "    .dataframe tbody tr th {\n",
       "        vertical-align: top;\n",
       "    }\n",
       "\n",
       "    .dataframe thead th {\n",
       "        text-align: right;\n",
       "    }\n",
       "</style>\n",
       "<table border=\"1\" class=\"dataframe\">\n",
       "  <thead>\n",
       "    <tr style=\"text-align: right;\">\n",
       "      <th></th>\n",
       "      <th>Ticker</th>\n",
       "      <th>Market_Cap</th>\n",
       "      <th>_3_Month_Trading_Volume</th>\n",
       "      <th>PEG_Ratio</th>\n",
       "      <th>Current_Ratio</th>\n",
       "      <th>Trailing_P_E_Ratio</th>\n",
       "      <th>Operating_Margin</th>\n",
       "      <th>Revenue_Most_Recent_Annual_Statement</th>\n",
       "      <th>Revenue_One_Annual_Statement_Ago</th>\n",
       "      <th>Revenue_Two_Annual_Statements_Ago</th>\n",
       "      <th>Earnings_Most_Recent_Annual_Statement</th>\n",
       "      <th>Earnings_One_Annual_Statement_Ago</th>\n",
       "      <th>Earnings_Two_Annual_Statements_Ago</th>\n",
       "      <th>Earnings_Surprise_Most_Recent_Quarter</th>\n",
       "      <th>Earnings_Surprise_One_Quarter_Ago</th>\n",
       "      <th>Shareholders_Equity_Most_Recent_Annual_Statement</th>\n",
       "      <th>Shareholders_Equity_One_Annual_Statement_Ago</th>\n",
       "      <th>Shareholders_Equity_Two_Annual_Statements_Ago</th>\n",
       "      <th>Shareholders_Equity_Three_Annual_Statements_Ago</th>\n",
       "    </tr>\n",
       "  </thead>\n",
       "  <tbody>\n",
       "  </tbody>\n",
       "</table>\n",
       "</div>"
      ],
      "text/plain": [
       "Empty DataFrame\n",
       "Columns: [Ticker, Market_Cap, _3_Month_Trading_Volume, PEG_Ratio, Current_Ratio, Trailing_P_E_Ratio, Operating_Margin, Revenue_Most_Recent_Annual_Statement, Revenue_One_Annual_Statement_Ago, Revenue_Two_Annual_Statements_Ago, Earnings_Most_Recent_Annual_Statement, Earnings_One_Annual_Statement_Ago, Earnings_Two_Annual_Statements_Ago, Earnings_Surprise_Most_Recent_Quarter, Earnings_Surprise_One_Quarter_Ago, Shareholders_Equity_Most_Recent_Annual_Statement, Shareholders_Equity_One_Annual_Statement_Ago, Shareholders_Equity_Two_Annual_Statements_Ago, Shareholders_Equity_Three_Annual_Statements_Ago]\n",
       "Index: []"
      ]
     },
     "execution_count": 34,
     "metadata": {},
     "output_type": "execute_result"
    }
   ],
   "source": [
    "# Initalize a new pandas DataFrame\n",
    "df = pd.DataFrame(columns = ['Ticker','Market_Cap','_3_Month_Trading_Volume','PEG_Ratio','Current_Ratio','Trailing_P_E_Ratio','Operating_Margin',\n",
    "                             'Revenue_Most_Recent_Annual_Statement','Revenue_One_Annual_Statement_Ago','Revenue_Two_Annual_Statements_Ago',\n",
    "                             'Earnings_Most_Recent_Annual_Statement','Earnings_One_Annual_Statement_Ago','Earnings_Two_Annual_Statements_Ago',\n",
    "                             'Earnings_Surprise_Most_Recent_Quarter_Percent','Earnings_Surprise_One_Quarter_Ago_Percent',\n",
    "                             'Shareholders_Equity_Most_Recent_Annual_Statement','Shareholders_Equity_One_Annual_Statement_Ago',\n",
    "                             'Shareholders_Equity_Two_Annual_Statements_Ago','Shareholders_Equity_Three_Annual_Statements_Ago'])\n",
    "df.head()"
   ]
  },
  {
   "cell_type": "code",
   "execution_count": 36,
   "id": "169cae5c-ac36-4351-9345-6351350b0a8e",
   "metadata": {},
   "outputs": [
    {
     "ename": "ChunkedEncodingError",
     "evalue": "Response ended prematurely",
     "output_type": "error",
     "traceback": [
      "\u001b[1;31m---------------------------------------------------------------------------\u001b[0m",
      "\u001b[1;31mProtocolError\u001b[0m                             Traceback (most recent call last)",
      "File \u001b[1;32mC:\\ProgramData\\anaconda3\\Lib\\site-packages\\requests\\models.py:820\u001b[0m, in \u001b[0;36mResponse.iter_content.<locals>.generate\u001b[1;34m()\u001b[0m\n\u001b[0;32m    819\u001b[0m \u001b[38;5;28;01mtry\u001b[39;00m:\n\u001b[1;32m--> 820\u001b[0m     \u001b[38;5;28;01myield from\u001b[39;00m \u001b[38;5;28mself\u001b[39m\u001b[38;5;241m.\u001b[39mraw\u001b[38;5;241m.\u001b[39mstream(chunk_size, decode_content\u001b[38;5;241m=\u001b[39m\u001b[38;5;28;01mTrue\u001b[39;00m)\n\u001b[0;32m    821\u001b[0m \u001b[38;5;28;01mexcept\u001b[39;00m ProtocolError \u001b[38;5;28;01mas\u001b[39;00m e:\n",
      "File \u001b[1;32mC:\\ProgramData\\anaconda3\\Lib\\site-packages\\urllib3\\response.py:1057\u001b[0m, in \u001b[0;36mHTTPResponse.stream\u001b[1;34m(self, amt, decode_content)\u001b[0m\n\u001b[0;32m   1056\u001b[0m \u001b[38;5;28;01mif\u001b[39;00m \u001b[38;5;28mself\u001b[39m\u001b[38;5;241m.\u001b[39mchunked \u001b[38;5;129;01mand\u001b[39;00m \u001b[38;5;28mself\u001b[39m\u001b[38;5;241m.\u001b[39msupports_chunked_reads():\n\u001b[1;32m-> 1057\u001b[0m     \u001b[38;5;28;01myield from\u001b[39;00m \u001b[38;5;28mself\u001b[39m\u001b[38;5;241m.\u001b[39mread_chunked(amt, decode_content\u001b[38;5;241m=\u001b[39mdecode_content)\n\u001b[0;32m   1058\u001b[0m \u001b[38;5;28;01melse\u001b[39;00m:\n",
      "File \u001b[1;32mC:\\ProgramData\\anaconda3\\Lib\\site-packages\\urllib3\\response.py:1206\u001b[0m, in \u001b[0;36mHTTPResponse.read_chunked\u001b[1;34m(self, amt, decode_content)\u001b[0m\n\u001b[0;32m   1205\u001b[0m \u001b[38;5;28;01mwhile\u001b[39;00m \u001b[38;5;28;01mTrue\u001b[39;00m:\n\u001b[1;32m-> 1206\u001b[0m     \u001b[38;5;28mself\u001b[39m\u001b[38;5;241m.\u001b[39m_update_chunk_length()\n\u001b[0;32m   1207\u001b[0m     \u001b[38;5;28;01mif\u001b[39;00m \u001b[38;5;28mself\u001b[39m\u001b[38;5;241m.\u001b[39mchunk_left \u001b[38;5;241m==\u001b[39m \u001b[38;5;241m0\u001b[39m:\n",
      "File \u001b[1;32mC:\\ProgramData\\anaconda3\\Lib\\site-packages\\urllib3\\response.py:1136\u001b[0m, in \u001b[0;36mHTTPResponse._update_chunk_length\u001b[1;34m(self)\u001b[0m\n\u001b[0;32m   1134\u001b[0m \u001b[38;5;28;01melse\u001b[39;00m:\n\u001b[0;32m   1135\u001b[0m     \u001b[38;5;66;03m# Truncated at start of next chunk\u001b[39;00m\n\u001b[1;32m-> 1136\u001b[0m     \u001b[38;5;28;01mraise\u001b[39;00m ProtocolError(\u001b[38;5;124m\"\u001b[39m\u001b[38;5;124mResponse ended prematurely\u001b[39m\u001b[38;5;124m\"\u001b[39m) \u001b[38;5;28;01mfrom\u001b[39;00m \u001b[38;5;28;01mNone\u001b[39;00m\n",
      "\u001b[1;31mProtocolError\u001b[0m: Response ended prematurely",
      "\nDuring handling of the above exception, another exception occurred:\n",
      "\u001b[1;31mChunkedEncodingError\u001b[0m                      Traceback (most recent call last)",
      "Cell \u001b[1;32mIn[36], line 7\u001b[0m\n\u001b[0;32m      1\u001b[0m \u001b[38;5;66;03m# Iterate through list of tickers and save mktcap to our df DataFrame\u001b[39;00m\n\u001b[0;32m      2\u001b[0m \u001b[38;5;28;01mfor\u001b[39;00m Ticker \u001b[38;5;129;01min\u001b[39;00m tickers:\n\u001b[0;32m      3\u001b[0m     Market_Cap, _3_Month_Trading_Volume, PEG_Ratio, Current_Ratio, Trailing_P_E_Ratio, Operating_Margin, Revenue_Most_Recent_Annual_Statement,\\\n\u001b[0;32m      4\u001b[0m     Revenue_One_Annual_Statement_Ago, Revenue_Two_Annual_Statements_Ago, Earnings_Most_Recent_Annual_Statement, Earnings_One_Annual_Statement_Ago,\\\n\u001b[0;32m      5\u001b[0m     Earnings_Two_Annual_Statements_Ago, Earnings_Surprise_Most_Recent_Quarter, Earnings_Surprise_One_Quarter_Ago, \\\n\u001b[0;32m      6\u001b[0m     Shareholders_Equity_Most_Recent_Annual_Statement, Shareholders_Equity_One_Annual_Statement_Ago, Shareholders_Equity_Two_Annual_Statements_Ago,\\\n\u001b[1;32m----> 7\u001b[0m     Shareholders_Equity_Three_Annual_Statements_Ago \u001b[38;5;241m=\u001b[39m get_data(Ticker)\n\u001b[0;32m      8\u001b[0m     df \u001b[38;5;241m=\u001b[39m pd\u001b[38;5;241m.\u001b[39mconcat([df, pd\u001b[38;5;241m.\u001b[39mDataFrame({\u001b[38;5;124m'\u001b[39m\u001b[38;5;124mTicker\u001b[39m\u001b[38;5;124m'\u001b[39m:[Ticker], \u001b[38;5;124m'\u001b[39m\u001b[38;5;124mMarket_Cap\u001b[39m\u001b[38;5;124m'\u001b[39m:[Market_Cap], \u001b[38;5;124m'\u001b[39m\u001b[38;5;124m_3_Month_Trading_Volume\u001b[39m\u001b[38;5;124m'\u001b[39m:[_3_Month_Trading_Volume],\n\u001b[0;32m      9\u001b[0m                                       \u001b[38;5;124m'\u001b[39m\u001b[38;5;124mPEG_Ratio\u001b[39m\u001b[38;5;124m'\u001b[39m:[PEG_Ratio], \u001b[38;5;124m'\u001b[39m\u001b[38;5;124mCurrent_Ratio\u001b[39m\u001b[38;5;124m'\u001b[39m:[Current_Ratio], \u001b[38;5;124m'\u001b[39m\u001b[38;5;124mTrailing_P_E_Ratio\u001b[39m\u001b[38;5;124m'\u001b[39m:[Trailing_P_E_Ratio],\n\u001b[0;32m     10\u001b[0m                                       \u001b[38;5;124m'\u001b[39m\u001b[38;5;124mOperating_Margin\u001b[39m\u001b[38;5;124m'\u001b[39m:[Operating_Margin], \u001b[38;5;124m'\u001b[39m\u001b[38;5;124mRevenue_Most_Recent_Annual_Statement\u001b[39m\u001b[38;5;124m'\u001b[39m:[Revenue_Most_Recent_Annual_Statement], \n\u001b[1;32m   (...)\u001b[0m\n\u001b[0;32m     15\u001b[0m                                       \u001b[38;5;124m'\u001b[39m\u001b[38;5;124mShareholders_Equity_One_Annual_Statement_Ago\u001b[39m\u001b[38;5;124m'\u001b[39m:[Shareholders_Equity_One_Annual_Statement_Ago], \u001b[38;5;124m'\u001b[39m\u001b[38;5;124mShareholders_Equity_Two_Annual_Statements_Ago\u001b[39m\u001b[38;5;124m'\u001b[39m:[Shareholders_Equity_Two_Annual_Statements_Ago], \n\u001b[0;32m     16\u001b[0m                                       \u001b[38;5;124m'\u001b[39m\u001b[38;5;124mShareholders_Equity_Three_Annual_Statements_Ago\u001b[39m\u001b[38;5;124m'\u001b[39m:[Shareholders_Equity_Three_Annual_Statements_Ago]})], ignore_index\u001b[38;5;241m=\u001b[39m\u001b[38;5;28;01mTrue\u001b[39;00m)\n\u001b[0;32m     18\u001b[0m \u001b[38;5;66;03m# Print the df DataFrame\u001b[39;00m\n",
      "Cell \u001b[1;32mIn[32], line 32\u001b[0m, in \u001b[0;36mget_data\u001b[1;34m(Ticker)\u001b[0m\n\u001b[0;32m     30\u001b[0m     Earnings_Two_Annual_Statements_Ago \u001b[38;5;241m=\u001b[39m response\u001b[38;5;241m.\u001b[39mxpath(\u001b[38;5;124m'\u001b[39m\u001b[38;5;124m//*[@id=\u001b[39m\u001b[38;5;124m\"\u001b[39m\u001b[38;5;124mnimbus-app\u001b[39m\u001b[38;5;124m\"\u001b[39m\u001b[38;5;124m]/section/section/section/article/article/section/div/div[1]/div[2]/div[11]/div[5]/text()\u001b[39m\u001b[38;5;124m'\u001b[39m)\u001b[38;5;241m.\u001b[39mextract_first()\n\u001b[0;32m     31\u001b[0m \u001b[38;5;66;03m#                                                                  analysis\u001b[39;00m\n\u001b[1;32m---> 32\u001b[0m     html \u001b[38;5;241m=\u001b[39m requests\u001b[38;5;241m.\u001b[39mget(\u001b[38;5;124mf\u001b[39m\u001b[38;5;124m'\u001b[39m\u001b[38;5;124mhttps://finance.yahoo.com/quote/\u001b[39m\u001b[38;5;132;01m{\u001b[39;00mTicker\u001b[38;5;132;01m}\u001b[39;00m\u001b[38;5;124m/analysis/\u001b[39m\u001b[38;5;124m'\u001b[39m, headers\u001b[38;5;241m=\u001b[39mheaders)\u001b[38;5;241m.\u001b[39mtext\n\u001b[0;32m     33\u001b[0m     response \u001b[38;5;241m=\u001b[39m Selector(text\u001b[38;5;241m=\u001b[39mhtml)\n\u001b[0;32m     34\u001b[0m     Earnings_Surprise_Most_Recent_Quarter \u001b[38;5;241m=\u001b[39m response\u001b[38;5;241m.\u001b[39mxpath(\u001b[38;5;124m'\u001b[39m\u001b[38;5;124m//*[@id=\u001b[39m\u001b[38;5;124m\"\u001b[39m\u001b[38;5;124mnimbus-app\u001b[39m\u001b[38;5;124m\"\u001b[39m\u001b[38;5;124m]/section/section/section/article/section[4]/div/table/tbody/tr[4]/td[2]/text()\u001b[39m\u001b[38;5;124m'\u001b[39m)\u001b[38;5;241m.\u001b[39mextract_first()\n",
      "File \u001b[1;32mC:\\ProgramData\\anaconda3\\Lib\\site-packages\\requests\\api.py:73\u001b[0m, in \u001b[0;36mget\u001b[1;34m(url, params, **kwargs)\u001b[0m\n\u001b[0;32m     62\u001b[0m \u001b[38;5;28;01mdef\u001b[39;00m \u001b[38;5;21mget\u001b[39m(url, params\u001b[38;5;241m=\u001b[39m\u001b[38;5;28;01mNone\u001b[39;00m, \u001b[38;5;241m*\u001b[39m\u001b[38;5;241m*\u001b[39mkwargs):\n\u001b[0;32m     63\u001b[0m \u001b[38;5;250m    \u001b[39m\u001b[38;5;124mr\u001b[39m\u001b[38;5;124;03m\"\"\"Sends a GET request.\u001b[39;00m\n\u001b[0;32m     64\u001b[0m \n\u001b[0;32m     65\u001b[0m \u001b[38;5;124;03m    :param url: URL for the new :class:`Request` object.\u001b[39;00m\n\u001b[1;32m   (...)\u001b[0m\n\u001b[0;32m     70\u001b[0m \u001b[38;5;124;03m    :rtype: requests.Response\u001b[39;00m\n\u001b[0;32m     71\u001b[0m \u001b[38;5;124;03m    \"\"\"\u001b[39;00m\n\u001b[1;32m---> 73\u001b[0m     \u001b[38;5;28;01mreturn\u001b[39;00m request(\u001b[38;5;124m\"\u001b[39m\u001b[38;5;124mget\u001b[39m\u001b[38;5;124m\"\u001b[39m, url, params\u001b[38;5;241m=\u001b[39mparams, \u001b[38;5;241m*\u001b[39m\u001b[38;5;241m*\u001b[39mkwargs)\n",
      "File \u001b[1;32mC:\\ProgramData\\anaconda3\\Lib\\site-packages\\requests\\api.py:59\u001b[0m, in \u001b[0;36mrequest\u001b[1;34m(method, url, **kwargs)\u001b[0m\n\u001b[0;32m     55\u001b[0m \u001b[38;5;66;03m# By using the 'with' statement we are sure the session is closed, thus we\u001b[39;00m\n\u001b[0;32m     56\u001b[0m \u001b[38;5;66;03m# avoid leaving sockets open which can trigger a ResourceWarning in some\u001b[39;00m\n\u001b[0;32m     57\u001b[0m \u001b[38;5;66;03m# cases, and look like a memory leak in others.\u001b[39;00m\n\u001b[0;32m     58\u001b[0m \u001b[38;5;28;01mwith\u001b[39;00m sessions\u001b[38;5;241m.\u001b[39mSession() \u001b[38;5;28;01mas\u001b[39;00m session:\n\u001b[1;32m---> 59\u001b[0m     \u001b[38;5;28;01mreturn\u001b[39;00m session\u001b[38;5;241m.\u001b[39mrequest(method\u001b[38;5;241m=\u001b[39mmethod, url\u001b[38;5;241m=\u001b[39murl, \u001b[38;5;241m*\u001b[39m\u001b[38;5;241m*\u001b[39mkwargs)\n",
      "File \u001b[1;32mC:\\ProgramData\\anaconda3\\Lib\\site-packages\\requests\\sessions.py:589\u001b[0m, in \u001b[0;36mSession.request\u001b[1;34m(self, method, url, params, data, headers, cookies, files, auth, timeout, allow_redirects, proxies, hooks, stream, verify, cert, json)\u001b[0m\n\u001b[0;32m    584\u001b[0m send_kwargs \u001b[38;5;241m=\u001b[39m {\n\u001b[0;32m    585\u001b[0m     \u001b[38;5;124m\"\u001b[39m\u001b[38;5;124mtimeout\u001b[39m\u001b[38;5;124m\"\u001b[39m: timeout,\n\u001b[0;32m    586\u001b[0m     \u001b[38;5;124m\"\u001b[39m\u001b[38;5;124mallow_redirects\u001b[39m\u001b[38;5;124m\"\u001b[39m: allow_redirects,\n\u001b[0;32m    587\u001b[0m }\n\u001b[0;32m    588\u001b[0m send_kwargs\u001b[38;5;241m.\u001b[39mupdate(settings)\n\u001b[1;32m--> 589\u001b[0m resp \u001b[38;5;241m=\u001b[39m \u001b[38;5;28mself\u001b[39m\u001b[38;5;241m.\u001b[39msend(prep, \u001b[38;5;241m*\u001b[39m\u001b[38;5;241m*\u001b[39msend_kwargs)\n\u001b[0;32m    591\u001b[0m \u001b[38;5;28;01mreturn\u001b[39;00m resp\n",
      "File \u001b[1;32mC:\\ProgramData\\anaconda3\\Lib\\site-packages\\requests\\sessions.py:724\u001b[0m, in \u001b[0;36mSession.send\u001b[1;34m(self, request, **kwargs)\u001b[0m\n\u001b[0;32m    721\u001b[0m \u001b[38;5;28;01mif\u001b[39;00m allow_redirects:\n\u001b[0;32m    722\u001b[0m     \u001b[38;5;66;03m# Redirect resolving generator.\u001b[39;00m\n\u001b[0;32m    723\u001b[0m     gen \u001b[38;5;241m=\u001b[39m \u001b[38;5;28mself\u001b[39m\u001b[38;5;241m.\u001b[39mresolve_redirects(r, request, \u001b[38;5;241m*\u001b[39m\u001b[38;5;241m*\u001b[39mkwargs)\n\u001b[1;32m--> 724\u001b[0m     history \u001b[38;5;241m=\u001b[39m [resp \u001b[38;5;28;01mfor\u001b[39;00m resp \u001b[38;5;129;01min\u001b[39;00m gen]\n\u001b[0;32m    725\u001b[0m \u001b[38;5;28;01melse\u001b[39;00m:\n\u001b[0;32m    726\u001b[0m     history \u001b[38;5;241m=\u001b[39m []\n",
      "File \u001b[1;32mC:\\ProgramData\\anaconda3\\Lib\\site-packages\\requests\\sessions.py:265\u001b[0m, in \u001b[0;36mSessionRedirectMixin.resolve_redirects\u001b[1;34m(self, resp, req, stream, timeout, verify, cert, proxies, yield_requests, **adapter_kwargs)\u001b[0m\n\u001b[0;32m    263\u001b[0m     \u001b[38;5;28;01myield\u001b[39;00m req\n\u001b[0;32m    264\u001b[0m \u001b[38;5;28;01melse\u001b[39;00m:\n\u001b[1;32m--> 265\u001b[0m     resp \u001b[38;5;241m=\u001b[39m \u001b[38;5;28mself\u001b[39m\u001b[38;5;241m.\u001b[39msend(\n\u001b[0;32m    266\u001b[0m         req,\n\u001b[0;32m    267\u001b[0m         stream\u001b[38;5;241m=\u001b[39mstream,\n\u001b[0;32m    268\u001b[0m         timeout\u001b[38;5;241m=\u001b[39mtimeout,\n\u001b[0;32m    269\u001b[0m         verify\u001b[38;5;241m=\u001b[39mverify,\n\u001b[0;32m    270\u001b[0m         cert\u001b[38;5;241m=\u001b[39mcert,\n\u001b[0;32m    271\u001b[0m         proxies\u001b[38;5;241m=\u001b[39mproxies,\n\u001b[0;32m    272\u001b[0m         allow_redirects\u001b[38;5;241m=\u001b[39m\u001b[38;5;28;01mFalse\u001b[39;00m,\n\u001b[0;32m    273\u001b[0m         \u001b[38;5;241m*\u001b[39m\u001b[38;5;241m*\u001b[39madapter_kwargs,\n\u001b[0;32m    274\u001b[0m     )\n\u001b[0;32m    276\u001b[0m     extract_cookies_to_jar(\u001b[38;5;28mself\u001b[39m\u001b[38;5;241m.\u001b[39mcookies, prepared_request, resp\u001b[38;5;241m.\u001b[39mraw)\n\u001b[0;32m    278\u001b[0m     \u001b[38;5;66;03m# extract redirect url, if any, for the next loop\u001b[39;00m\n",
      "File \u001b[1;32mC:\\ProgramData\\anaconda3\\Lib\\site-packages\\requests\\sessions.py:746\u001b[0m, in \u001b[0;36mSession.send\u001b[1;34m(self, request, **kwargs)\u001b[0m\n\u001b[0;32m    743\u001b[0m         \u001b[38;5;28;01mpass\u001b[39;00m\n\u001b[0;32m    745\u001b[0m \u001b[38;5;28;01mif\u001b[39;00m \u001b[38;5;129;01mnot\u001b[39;00m stream:\n\u001b[1;32m--> 746\u001b[0m     r\u001b[38;5;241m.\u001b[39mcontent\n\u001b[0;32m    748\u001b[0m \u001b[38;5;28;01mreturn\u001b[39;00m r\n",
      "File \u001b[1;32mC:\\ProgramData\\anaconda3\\Lib\\site-packages\\requests\\models.py:902\u001b[0m, in \u001b[0;36mResponse.content\u001b[1;34m(self)\u001b[0m\n\u001b[0;32m    900\u001b[0m         \u001b[38;5;28mself\u001b[39m\u001b[38;5;241m.\u001b[39m_content \u001b[38;5;241m=\u001b[39m \u001b[38;5;28;01mNone\u001b[39;00m\n\u001b[0;32m    901\u001b[0m     \u001b[38;5;28;01melse\u001b[39;00m:\n\u001b[1;32m--> 902\u001b[0m         \u001b[38;5;28mself\u001b[39m\u001b[38;5;241m.\u001b[39m_content \u001b[38;5;241m=\u001b[39m \u001b[38;5;124mb\u001b[39m\u001b[38;5;124m\"\u001b[39m\u001b[38;5;124m\"\u001b[39m\u001b[38;5;241m.\u001b[39mjoin(\u001b[38;5;28mself\u001b[39m\u001b[38;5;241m.\u001b[39miter_content(CONTENT_CHUNK_SIZE)) \u001b[38;5;129;01mor\u001b[39;00m \u001b[38;5;124mb\u001b[39m\u001b[38;5;124m\"\u001b[39m\u001b[38;5;124m\"\u001b[39m\n\u001b[0;32m    904\u001b[0m \u001b[38;5;28mself\u001b[39m\u001b[38;5;241m.\u001b[39m_content_consumed \u001b[38;5;241m=\u001b[39m \u001b[38;5;28;01mTrue\u001b[39;00m\n\u001b[0;32m    905\u001b[0m \u001b[38;5;66;03m# don't need to release the connection; that's been handled by urllib3\u001b[39;00m\n\u001b[0;32m    906\u001b[0m \u001b[38;5;66;03m# since we exhausted the data.\u001b[39;00m\n",
      "File \u001b[1;32mC:\\ProgramData\\anaconda3\\Lib\\site-packages\\requests\\models.py:822\u001b[0m, in \u001b[0;36mResponse.iter_content.<locals>.generate\u001b[1;34m()\u001b[0m\n\u001b[0;32m    820\u001b[0m     \u001b[38;5;28;01myield from\u001b[39;00m \u001b[38;5;28mself\u001b[39m\u001b[38;5;241m.\u001b[39mraw\u001b[38;5;241m.\u001b[39mstream(chunk_size, decode_content\u001b[38;5;241m=\u001b[39m\u001b[38;5;28;01mTrue\u001b[39;00m)\n\u001b[0;32m    821\u001b[0m \u001b[38;5;28;01mexcept\u001b[39;00m ProtocolError \u001b[38;5;28;01mas\u001b[39;00m e:\n\u001b[1;32m--> 822\u001b[0m     \u001b[38;5;28;01mraise\u001b[39;00m ChunkedEncodingError(e)\n\u001b[0;32m    823\u001b[0m \u001b[38;5;28;01mexcept\u001b[39;00m DecodeError \u001b[38;5;28;01mas\u001b[39;00m e:\n\u001b[0;32m    824\u001b[0m     \u001b[38;5;28;01mraise\u001b[39;00m ContentDecodingError(e)\n",
      "\u001b[1;31mChunkedEncodingError\u001b[0m: Response ended prematurely"
     ]
    }
   ],
   "source": [
    "# Iterate through list of tickers and save mktcap to our df DataFrame\n",
    "for Ticker in tickers:\n",
    "    Market_Cap, _3_Month_Trading_Volume, PEG_Ratio, Current_Ratio, Trailing_P_E_Ratio, Operating_Margin, Revenue_Most_Recent_Annual_Statement,\\\n",
    "    Revenue_One_Annual_Statement_Ago, Revenue_Two_Annual_Statements_Ago, Earnings_Most_Recent_Annual_Statement, Earnings_One_Annual_Statement_Ago,\\\n",
    "    Earnings_Two_Annual_Statements_Ago, Earnings_Surprise_Most_Recent_Quarter_Percent, Earnings_Surprise_One_Quarter_Ago_Percent, \\\n",
    "    Shareholders_Equity_Most_Recent_Annual_Statement, Shareholders_Equity_One_Annual_Statement_Ago, Shareholders_Equity_Two_Annual_Statements_Ago,\\\n",
    "    Shareholders_Equity_Three_Annual_Statements_Ago = get_data(Ticker)\n",
    "    df = pd.concat([df, pd.DataFrame({'Ticker':[Ticker], 'Market_Cap':[Market_Cap], '_3_Month_Trading_Volume':[_3_Month_Trading_Volume],\n",
    "                                      'PEG_Ratio':[PEG_Ratio], 'Current_Ratio':[Current_Ratio], 'Trailing_P_E_Ratio':[Trailing_P_E_Ratio],\n",
    "                                      'Operating_Margin':[Operating_Margin], 'Revenue_Most_Recent_Annual_Statement':[Revenue_Most_Recent_Annual_Statement], \n",
    "                                      'Revenue_One_Annual_Statement_Ago':[Revenue_One_Annual_Statement_Ago], 'Revenue_Two_Annual_Statements_Ago':[Revenue_Two_Annual_Statements_Ago], \n",
    "                                      'Earnings_Most_Recent_Annual_Statement':[Earnings_Most_Recent_Annual_Statement], 'Earnings_One_Annual_Statement_Ago':[Earnings_One_Annual_Statement_Ago], \n",
    "                                      'Earnings_Two_Annual_Statements_Ago':[Earnings_Two_Annual_Statements_Ago], 'Earnings_Surprise_Most_Recent_Quarter_Percent':[Earnings_Surprise_Most_Recent_Quarter_Percent], \n",
    "                                      'Earnings_Surprise_One_Quarter_Ago_Percent':[Earnings_Surprise_One_Quarter_Ago_Percent], 'Shareholders_Equity_Most_Recent_Annual_Statement':[Shareholders_Equity_Most_Recent_Annual_Statement], \n",
    "                                      'Shareholders_Equity_One_Annual_Statement_Ago':[Shareholders_Equity_One_Annual_Statement_Ago], 'Shareholders_Equity_Two_Annual_Statements_Ago':[Shareholders_Equity_Two_Annual_Statements_Ago], \n",
    "                                      'Shareholders_Equity_Three_Annual_Statements_Ago':[Shareholders_Equity_Three_Annual_Statements_Ago]})], ignore_index=True)\n",
    "\n",
    "# Print the df DataFrame\n",
    "df.head()"
   ]
  },
  {
   "cell_type": "code",
   "execution_count": null,
   "id": "a960181f-d8f2-43e0-8b3d-bb44241bb95c",
   "metadata": {},
   "outputs": [],
   "source": [
    "#The ending of the full shababang"
   ]
  },
  {
   "cell_type": "code",
   "execution_count": null,
   "id": "e352b643-e31e-455e-a6bc-01e9d041b462",
   "metadata": {},
   "outputs": [],
   "source": []
  },
  {
   "cell_type": "code",
   "execution_count": null,
   "id": "7139705a-4705-4241-9696-13d4f4d27eda",
   "metadata": {},
   "outputs": [],
   "source": []
  },
  {
   "cell_type": "code",
   "execution_count": null,
   "id": "3092d30f-e93e-4031-aee2-cf3586e18a86",
   "metadata": {},
   "outputs": [],
   "source": []
  },
  {
   "cell_type": "code",
   "execution_count": null,
   "id": "1cb7ab9d-5584-4170-9bcd-62f7567203c1",
   "metadata": {},
   "outputs": [],
   "source": []
  },
  {
   "cell_type": "code",
   "execution_count": null,
   "id": "5bace662-971d-4ebc-b474-1388a65d39a4",
   "metadata": {},
   "outputs": [],
   "source": []
  },
  {
   "cell_type": "code",
   "execution_count": null,
   "id": "a25e06e0-ccf0-4003-9efe-bceab78d5cf0",
   "metadata": {},
   "outputs": [],
   "source": []
  },
  {
   "cell_type": "code",
   "execution_count": null,
   "id": "98bf5cdb-1057-4087-baf6-6c1911279105",
   "metadata": {},
   "outputs": [],
   "source": []
  },
  {
   "cell_type": "code",
   "execution_count": null,
   "id": "99af88bd-2895-4b19-b333-68d62dfa2209",
   "metadata": {},
   "outputs": [],
   "source": []
  },
  {
   "cell_type": "code",
   "execution_count": null,
   "id": "ce2ec9c0-41d8-40d7-81de-22dbc41a7619",
   "metadata": {},
   "outputs": [],
   "source": []
  },
  {
   "cell_type": "code",
   "execution_count": null,
   "id": "158aa83b-9c1e-4d10-a3d2-47fd938da6c0",
   "metadata": {},
   "outputs": [],
   "source": []
  }
 ],
 "metadata": {
  "kernelspec": {
   "display_name": "Python 3 (ipykernel)",
   "language": "python",
   "name": "python3"
  },
  "language_info": {
   "codemirror_mode": {
    "name": "ipython",
    "version": 3
   },
   "file_extension": ".py",
   "mimetype": "text/x-python",
   "name": "python",
   "nbconvert_exporter": "python",
   "pygments_lexer": "ipython3",
   "version": "3.12.4"
  }
 },
 "nbformat": 4,
 "nbformat_minor": 5
}
